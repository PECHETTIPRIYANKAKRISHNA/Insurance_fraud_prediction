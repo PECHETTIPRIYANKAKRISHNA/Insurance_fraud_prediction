{
 "cells": [
  {
   "cell_type": "code",
   "execution_count": 1,
   "id": "3fa0429b",
   "metadata": {},
   "outputs": [],
   "source": [
    "#import necessary libraries\n",
    "import pandas as pd\n",
    "import numpy as np\n",
    "import matplotlib.pyplot as plt\n",
    "import seaborn as sns"
   ]
  },
  {
   "cell_type": "code",
   "execution_count": 2,
   "id": "052e19bb",
   "metadata": {
    "scrolled": true
   },
   "outputs": [
    {
     "data": {
      "text/html": [
       "<div>\n",
       "<style scoped>\n",
       "    .dataframe tbody tr th:only-of-type {\n",
       "        vertical-align: middle;\n",
       "    }\n",
       "\n",
       "    .dataframe tbody tr th {\n",
       "        vertical-align: top;\n",
       "    }\n",
       "\n",
       "    .dataframe thead th {\n",
       "        text-align: right;\n",
       "    }\n",
       "</style>\n",
       "<table border=\"1\" class=\"dataframe\">\n",
       "  <thead>\n",
       "    <tr style=\"text-align: right;\">\n",
       "      <th></th>\n",
       "      <th>Area_Service</th>\n",
       "      <th>Hospital_County</th>\n",
       "      <th>Hospital Id</th>\n",
       "      <th>Age</th>\n",
       "      <th>Gender</th>\n",
       "      <th>Cultural_group</th>\n",
       "      <th>ethnicity</th>\n",
       "      <th>Days_spend_hsptl</th>\n",
       "      <th>Admission_type</th>\n",
       "      <th>Home_or_self_care</th>\n",
       "      <th>...</th>\n",
       "      <th>Mortality risk</th>\n",
       "      <th>Surg_Description</th>\n",
       "      <th>Weight_baby</th>\n",
       "      <th>Abortion</th>\n",
       "      <th>Emergency_dept</th>\n",
       "      <th>Tot_charg</th>\n",
       "      <th>Tot_cost</th>\n",
       "      <th>ratio_of_total_costs_to_total_charges</th>\n",
       "      <th>Payment_Typology</th>\n",
       "      <th>outcome</th>\n",
       "    </tr>\n",
       "  </thead>\n",
       "  <tbody>\n",
       "    <tr>\n",
       "      <th>0</th>\n",
       "      <td>Western NY</td>\n",
       "      <td>1</td>\n",
       "      <td>37</td>\n",
       "      <td>2</td>\n",
       "      <td>0</td>\n",
       "      <td>White</td>\n",
       "      <td>Not Span/Hispanic</td>\n",
       "      <td>3</td>\n",
       "      <td>0</td>\n",
       "      <td>Home or Self Care</td>\n",
       "      <td>...</td>\n",
       "      <td>1</td>\n",
       "      <td>0</td>\n",
       "      <td>0</td>\n",
       "      <td>N</td>\n",
       "      <td>1</td>\n",
       "      <td>5511.95</td>\n",
       "      <td>5582.49</td>\n",
       "      <td>1.012798</td>\n",
       "      <td>1</td>\n",
       "      <td>1</td>\n",
       "    </tr>\n",
       "    <tr>\n",
       "      <th>1</th>\n",
       "      <td>Western NY</td>\n",
       "      <td>1</td>\n",
       "      <td>37</td>\n",
       "      <td>4</td>\n",
       "      <td>0</td>\n",
       "      <td>White</td>\n",
       "      <td>Not Span/Hispanic</td>\n",
       "      <td>3</td>\n",
       "      <td>5</td>\n",
       "      <td>Short-term Hospital</td>\n",
       "      <td>...</td>\n",
       "      <td>2</td>\n",
       "      <td>0</td>\n",
       "      <td>0</td>\n",
       "      <td>N</td>\n",
       "      <td>1</td>\n",
       "      <td>4783.20</td>\n",
       "      <td>5162.82</td>\n",
       "      <td>1.079365</td>\n",
       "      <td>1</td>\n",
       "      <td>1</td>\n",
       "    </tr>\n",
       "    <tr>\n",
       "      <th>2</th>\n",
       "      <td>Western NY</td>\n",
       "      <td>1</td>\n",
       "      <td>37</td>\n",
       "      <td>2</td>\n",
       "      <td>0</td>\n",
       "      <td>White</td>\n",
       "      <td>Not Span/Hispanic</td>\n",
       "      <td>2</td>\n",
       "      <td>5</td>\n",
       "      <td>Home or Self Care</td>\n",
       "      <td>...</td>\n",
       "      <td>1</td>\n",
       "      <td>0</td>\n",
       "      <td>0</td>\n",
       "      <td>N</td>\n",
       "      <td>1</td>\n",
       "      <td>3829.15</td>\n",
       "      <td>4056.52</td>\n",
       "      <td>1.059379</td>\n",
       "      <td>1</td>\n",
       "      <td>1</td>\n",
       "    </tr>\n",
       "    <tr>\n",
       "      <th>3</th>\n",
       "      <td>Western NY</td>\n",
       "      <td>1</td>\n",
       "      <td>37</td>\n",
       "      <td>0</td>\n",
       "      <td>0</td>\n",
       "      <td>White</td>\n",
       "      <td>Not Span/Hispanic</td>\n",
       "      <td>0</td>\n",
       "      <td>5</td>\n",
       "      <td>Home or Self Care</td>\n",
       "      <td>...</td>\n",
       "      <td>1</td>\n",
       "      <td>0</td>\n",
       "      <td>0</td>\n",
       "      <td>N</td>\n",
       "      <td>1</td>\n",
       "      <td>1108.20</td>\n",
       "      <td>1644.75</td>\n",
       "      <td>1.484167</td>\n",
       "      <td>1</td>\n",
       "      <td>0</td>\n",
       "    </tr>\n",
       "    <tr>\n",
       "      <th>4</th>\n",
       "      <td>Western NY</td>\n",
       "      <td>1</td>\n",
       "      <td>37</td>\n",
       "      <td>4</td>\n",
       "      <td>0</td>\n",
       "      <td>White</td>\n",
       "      <td>Not Span/Hispanic</td>\n",
       "      <td>2</td>\n",
       "      <td>0</td>\n",
       "      <td>Home or Self Care</td>\n",
       "      <td>...</td>\n",
       "      <td>3</td>\n",
       "      <td>0</td>\n",
       "      <td>0</td>\n",
       "      <td>N</td>\n",
       "      <td>1</td>\n",
       "      <td>3418.18</td>\n",
       "      <td>3370.87</td>\n",
       "      <td>0.986161</td>\n",
       "      <td>1</td>\n",
       "      <td>1</td>\n",
       "    </tr>\n",
       "    <tr>\n",
       "      <th>...</th>\n",
       "      <td>...</td>\n",
       "      <td>...</td>\n",
       "      <td>...</td>\n",
       "      <td>...</td>\n",
       "      <td>...</td>\n",
       "      <td>...</td>\n",
       "      <td>...</td>\n",
       "      <td>...</td>\n",
       "      <td>...</td>\n",
       "      <td>...</td>\n",
       "      <td>...</td>\n",
       "      <td>...</td>\n",
       "      <td>...</td>\n",
       "      <td>...</td>\n",
       "      <td>...</td>\n",
       "      <td>...</td>\n",
       "      <td>...</td>\n",
       "      <td>...</td>\n",
       "      <td>...</td>\n",
       "      <td>...</td>\n",
       "      <td>...</td>\n",
       "    </tr>\n",
       "    <tr>\n",
       "      <th>1041260</th>\n",
       "      <td>New York City</td>\n",
       "      <td>2</td>\n",
       "      <td>1169</td>\n",
       "      <td>4</td>\n",
       "      <td>0</td>\n",
       "      <td>Other Race</td>\n",
       "      <td>Spanish/Hispanic</td>\n",
       "      <td>5</td>\n",
       "      <td>1</td>\n",
       "      <td>Skilled Nursing Home</td>\n",
       "      <td>...</td>\n",
       "      <td>3</td>\n",
       "      <td>0</td>\n",
       "      <td>0</td>\n",
       "      <td>N</td>\n",
       "      <td>1</td>\n",
       "      <td>69650.41</td>\n",
       "      <td>13896.82</td>\n",
       "      <td>0.199522</td>\n",
       "      <td>3</td>\n",
       "      <td>1</td>\n",
       "    </tr>\n",
       "    <tr>\n",
       "      <th>1041261</th>\n",
       "      <td>New York City</td>\n",
       "      <td>2</td>\n",
       "      <td>1169</td>\n",
       "      <td>0</td>\n",
       "      <td>0</td>\n",
       "      <td>Other Race</td>\n",
       "      <td>Not Span/Hispanic</td>\n",
       "      <td>1</td>\n",
       "      <td>1</td>\n",
       "      <td>Home or Self Care</td>\n",
       "      <td>...</td>\n",
       "      <td>1</td>\n",
       "      <td>0</td>\n",
       "      <td>0</td>\n",
       "      <td>N</td>\n",
       "      <td>0</td>\n",
       "      <td>13587.38</td>\n",
       "      <td>3918.35</td>\n",
       "      <td>0.288382</td>\n",
       "      <td>3</td>\n",
       "      <td>1</td>\n",
       "    </tr>\n",
       "    <tr>\n",
       "      <th>1041262</th>\n",
       "      <td>New York City</td>\n",
       "      <td>2</td>\n",
       "      <td>1169</td>\n",
       "      <td>3</td>\n",
       "      <td>1</td>\n",
       "      <td>Other Race</td>\n",
       "      <td>Spanish/Hispanic</td>\n",
       "      <td>12</td>\n",
       "      <td>1</td>\n",
       "      <td>Medicare Cert Long Term Care Hospital</td>\n",
       "      <td>...</td>\n",
       "      <td>4</td>\n",
       "      <td>0</td>\n",
       "      <td>0</td>\n",
       "      <td>N</td>\n",
       "      <td>1</td>\n",
       "      <td>104629.78</td>\n",
       "      <td>24746.64</td>\n",
       "      <td>0.236516</td>\n",
       "      <td>3</td>\n",
       "      <td>0</td>\n",
       "    </tr>\n",
       "    <tr>\n",
       "      <th>1041263</th>\n",
       "      <td>New York City</td>\n",
       "      <td>2</td>\n",
       "      <td>1169</td>\n",
       "      <td>2</td>\n",
       "      <td>0</td>\n",
       "      <td>Black/African American</td>\n",
       "      <td>Not Span/Hispanic</td>\n",
       "      <td>1</td>\n",
       "      <td>1</td>\n",
       "      <td>Home or Self Care</td>\n",
       "      <td>...</td>\n",
       "      <td>1</td>\n",
       "      <td>1</td>\n",
       "      <td>0</td>\n",
       "      <td>N</td>\n",
       "      <td>1</td>\n",
       "      <td>27521.41</td>\n",
       "      <td>6766.04</td>\n",
       "      <td>0.245846</td>\n",
       "      <td>3</td>\n",
       "      <td>1</td>\n",
       "    </tr>\n",
       "    <tr>\n",
       "      <th>1041264</th>\n",
       "      <td>New York City</td>\n",
       "      <td>2</td>\n",
       "      <td>1169</td>\n",
       "      <td>3</td>\n",
       "      <td>1</td>\n",
       "      <td>Other Race</td>\n",
       "      <td>Spanish/Hispanic</td>\n",
       "      <td>1</td>\n",
       "      <td>1</td>\n",
       "      <td>Home or Self Care</td>\n",
       "      <td>...</td>\n",
       "      <td>1</td>\n",
       "      <td>0</td>\n",
       "      <td>0</td>\n",
       "      <td>N</td>\n",
       "      <td>1</td>\n",
       "      <td>24832.23</td>\n",
       "      <td>4974.66</td>\n",
       "      <td>0.200331</td>\n",
       "      <td>2</td>\n",
       "      <td>1</td>\n",
       "    </tr>\n",
       "  </tbody>\n",
       "</table>\n",
       "<p>1041265 rows × 24 columns</p>\n",
       "</div>"
      ],
      "text/plain": [
       "          Area_Service  Hospital_County  Hospital Id  Age  Gender  \\\n",
       "0           Western NY                1           37    2       0   \n",
       "1           Western NY                1           37    4       0   \n",
       "2           Western NY                1           37    2       0   \n",
       "3           Western NY                1           37    0       0   \n",
       "4           Western NY                1           37    4       0   \n",
       "...                ...              ...          ...  ...     ...   \n",
       "1041260  New York City                2         1169    4       0   \n",
       "1041261  New York City                2         1169    0       0   \n",
       "1041262  New York City                2         1169    3       1   \n",
       "1041263  New York City                2         1169    2       0   \n",
       "1041264  New York City                2         1169    3       1   \n",
       "\n",
       "                 Cultural_group          ethnicity  Days_spend_hsptl  \\\n",
       "0                         White  Not Span/Hispanic                 3   \n",
       "1                         White  Not Span/Hispanic                 3   \n",
       "2                         White  Not Span/Hispanic                 2   \n",
       "3                         White  Not Span/Hispanic                 0   \n",
       "4                         White  Not Span/Hispanic                 2   \n",
       "...                         ...                ...               ...   \n",
       "1041260              Other Race   Spanish/Hispanic                 5   \n",
       "1041261              Other Race  Not Span/Hispanic                 1   \n",
       "1041262              Other Race   Spanish/Hispanic                12   \n",
       "1041263  Black/African American  Not Span/Hispanic                 1   \n",
       "1041264              Other Race   Spanish/Hispanic                 1   \n",
       "\n",
       "         Admission_type                      Home_or_self_care  ...  \\\n",
       "0                     0                      Home or Self Care  ...   \n",
       "1                     5                    Short-term Hospital  ...   \n",
       "2                     5                      Home or Self Care  ...   \n",
       "3                     5                      Home or Self Care  ...   \n",
       "4                     0                      Home or Self Care  ...   \n",
       "...                 ...                                    ...  ...   \n",
       "1041260               1                   Skilled Nursing Home  ...   \n",
       "1041261               1                      Home or Self Care  ...   \n",
       "1041262               1  Medicare Cert Long Term Care Hospital  ...   \n",
       "1041263               1                      Home or Self Care  ...   \n",
       "1041264               1                      Home or Self Care  ...   \n",
       "\n",
       "         Mortality risk  Surg_Description  Weight_baby  Abortion  \\\n",
       "0                     1                 0            0         N   \n",
       "1                     2                 0            0         N   \n",
       "2                     1                 0            0         N   \n",
       "3                     1                 0            0         N   \n",
       "4                     3                 0            0         N   \n",
       "...                 ...               ...          ...       ...   \n",
       "1041260               3                 0            0         N   \n",
       "1041261               1                 0            0         N   \n",
       "1041262               4                 0            0         N   \n",
       "1041263               1                 1            0         N   \n",
       "1041264               1                 0            0         N   \n",
       "\n",
       "         Emergency_dept  Tot_charg  Tot_cost  \\\n",
       "0                     1    5511.95   5582.49   \n",
       "1                     1    4783.20   5162.82   \n",
       "2                     1    3829.15   4056.52   \n",
       "3                     1    1108.20   1644.75   \n",
       "4                     1    3418.18   3370.87   \n",
       "...                 ...        ...       ...   \n",
       "1041260               1   69650.41  13896.82   \n",
       "1041261               0   13587.38   3918.35   \n",
       "1041262               1  104629.78  24746.64   \n",
       "1041263               1   27521.41   6766.04   \n",
       "1041264               1   24832.23   4974.66   \n",
       "\n",
       "        ratio_of_total_costs_to_total_charges  Payment_Typology  outcome  \n",
       "0                                    1.012798                 1        1  \n",
       "1                                    1.079365                 1        1  \n",
       "2                                    1.059379                 1        1  \n",
       "3                                    1.484167                 1        0  \n",
       "4                                    0.986161                 1        1  \n",
       "...                                       ...               ...      ...  \n",
       "1041260                              0.199522                 3        1  \n",
       "1041261                              0.288382                 3        1  \n",
       "1041262                              0.236516                 3        0  \n",
       "1041263                              0.245846                 3        1  \n",
       "1041264                              0.200331                 2        1  \n",
       "\n",
       "[1041265 rows x 24 columns]"
      ]
     },
     "execution_count": 2,
     "metadata": {},
     "output_type": "execute_result"
    }
   ],
   "source": [
    "#import dataset\n",
    "ins_data=pd.read_csv(\"C:\\\\Users\\\\PRIYANKA\\\\Downloads\\\\clean_data.csv\")\n",
    "ins_data.drop('Unnamed: 0',axis=1,inplace=True)\n",
    "ins_data"
   ]
  },
  {
   "cell_type": "code",
   "execution_count": 3,
   "id": "5cb9d4cf",
   "metadata": {},
   "outputs": [
    {
     "data": {
      "text/plain": [
       "(1041265, 24)"
      ]
     },
     "execution_count": 3,
     "metadata": {},
     "output_type": "execute_result"
    }
   ],
   "source": [
    "ins_data.shape"
   ]
  },
  {
   "cell_type": "code",
   "execution_count": 4,
   "id": "56da7e63",
   "metadata": {},
   "outputs": [
    {
     "data": {
      "text/plain": [
       "Area_Service                             0\n",
       "Hospital_County                          0\n",
       "Hospital Id                              0\n",
       "Age                                      0\n",
       "Gender                                   0\n",
       "Cultural_group                           0\n",
       "ethnicity                                0\n",
       "Days_spend_hsptl                         0\n",
       "Admission_type                           0\n",
       "Home_or_self_care                        0\n",
       "ccs_diagnosis_code                       0\n",
       "ccs_procedure_code                       0\n",
       "apr_drg_description                      0\n",
       "Code_illness                             0\n",
       "Mortality risk                           0\n",
       "Surg_Description                         0\n",
       "Weight_baby                              0\n",
       "Abortion                                 0\n",
       "Emergency_dept                           0\n",
       "Tot_charg                                0\n",
       "Tot_cost                                 0\n",
       "ratio_of_total_costs_to_total_charges    0\n",
       "Payment_Typology                         0\n",
       "outcome                                  0\n",
       "dtype: int64"
      ]
     },
     "execution_count": 4,
     "metadata": {},
     "output_type": "execute_result"
    }
   ],
   "source": [
    "ins_data.isna().sum()"
   ]
  },
  {
   "cell_type": "code",
   "execution_count": 5,
   "id": "8ec1f551",
   "metadata": {},
   "outputs": [
    {
     "data": {
      "text/plain": [
       "Area_Service                              object\n",
       "Hospital_County                            int64\n",
       "Hospital Id                                int64\n",
       "Age                                        int64\n",
       "Gender                                     int64\n",
       "Cultural_group                            object\n",
       "ethnicity                                 object\n",
       "Days_spend_hsptl                           int64\n",
       "Admission_type                             int64\n",
       "Home_or_self_care                         object\n",
       "ccs_diagnosis_code                         int64\n",
       "ccs_procedure_code                         int64\n",
       "apr_drg_description                        int64\n",
       "Code_illness                               int64\n",
       "Mortality risk                             int64\n",
       "Surg_Description                           int64\n",
       "Weight_baby                                int64\n",
       "Abortion                                  object\n",
       "Emergency_dept                             int64\n",
       "Tot_charg                                float64\n",
       "Tot_cost                                 float64\n",
       "ratio_of_total_costs_to_total_charges    float64\n",
       "Payment_Typology                           int64\n",
       "outcome                                    int64\n",
       "dtype: object"
      ]
     },
     "execution_count": 5,
     "metadata": {},
     "output_type": "execute_result"
    }
   ],
   "source": [
    "ins_data.dtypes"
   ]
  },
  {
   "cell_type": "code",
   "execution_count": 6,
   "id": "04e9e3cb",
   "metadata": {},
   "outputs": [
    {
     "data": {
      "text/html": [
       "<div>\n",
       "<style scoped>\n",
       "    .dataframe tbody tr th:only-of-type {\n",
       "        vertical-align: middle;\n",
       "    }\n",
       "\n",
       "    .dataframe tbody tr th {\n",
       "        vertical-align: top;\n",
       "    }\n",
       "\n",
       "    .dataframe thead th {\n",
       "        text-align: right;\n",
       "    }\n",
       "</style>\n",
       "<table border=\"1\" class=\"dataframe\">\n",
       "  <thead>\n",
       "    <tr style=\"text-align: right;\">\n",
       "      <th></th>\n",
       "      <th>Hospital_County</th>\n",
       "      <th>Age</th>\n",
       "      <th>Gender</th>\n",
       "      <th>Days_spend_hsptl</th>\n",
       "      <th>Admission_type</th>\n",
       "      <th>apr_drg_description</th>\n",
       "      <th>Surg_Description</th>\n",
       "      <th>Emergency_dept</th>\n",
       "      <th>Tot_charg</th>\n",
       "      <th>Tot_cost</th>\n",
       "      <th>ratio_of_total_costs_to_total_charges</th>\n",
       "      <th>Payment_Typology</th>\n",
       "      <th>outcome</th>\n",
       "    </tr>\n",
       "  </thead>\n",
       "  <tbody>\n",
       "    <tr>\n",
       "      <th>0</th>\n",
       "      <td>1</td>\n",
       "      <td>2</td>\n",
       "      <td>0</td>\n",
       "      <td>3</td>\n",
       "      <td>0</td>\n",
       "      <td>237</td>\n",
       "      <td>0</td>\n",
       "      <td>1</td>\n",
       "      <td>5511.95</td>\n",
       "      <td>5582.49</td>\n",
       "      <td>1.012798</td>\n",
       "      <td>1</td>\n",
       "      <td>1</td>\n",
       "    </tr>\n",
       "    <tr>\n",
       "      <th>1</th>\n",
       "      <td>1</td>\n",
       "      <td>4</td>\n",
       "      <td>0</td>\n",
       "      <td>3</td>\n",
       "      <td>5</td>\n",
       "      <td>38</td>\n",
       "      <td>0</td>\n",
       "      <td>1</td>\n",
       "      <td>4783.20</td>\n",
       "      <td>5162.82</td>\n",
       "      <td>1.079365</td>\n",
       "      <td>1</td>\n",
       "      <td>1</td>\n",
       "    </tr>\n",
       "    <tr>\n",
       "      <th>2</th>\n",
       "      <td>1</td>\n",
       "      <td>2</td>\n",
       "      <td>0</td>\n",
       "      <td>2</td>\n",
       "      <td>5</td>\n",
       "      <td>237</td>\n",
       "      <td>0</td>\n",
       "      <td>1</td>\n",
       "      <td>3829.15</td>\n",
       "      <td>4056.52</td>\n",
       "      <td>1.059379</td>\n",
       "      <td>1</td>\n",
       "      <td>1</td>\n",
       "    </tr>\n",
       "    <tr>\n",
       "      <th>3</th>\n",
       "      <td>1</td>\n",
       "      <td>0</td>\n",
       "      <td>0</td>\n",
       "      <td>0</td>\n",
       "      <td>5</td>\n",
       "      <td>237</td>\n",
       "      <td>0</td>\n",
       "      <td>1</td>\n",
       "      <td>1108.20</td>\n",
       "      <td>1644.75</td>\n",
       "      <td>1.484167</td>\n",
       "      <td>1</td>\n",
       "      <td>0</td>\n",
       "    </tr>\n",
       "    <tr>\n",
       "      <th>4</th>\n",
       "      <td>1</td>\n",
       "      <td>4</td>\n",
       "      <td>0</td>\n",
       "      <td>2</td>\n",
       "      <td>0</td>\n",
       "      <td>237</td>\n",
       "      <td>0</td>\n",
       "      <td>1</td>\n",
       "      <td>3418.18</td>\n",
       "      <td>3370.87</td>\n",
       "      <td>0.986161</td>\n",
       "      <td>1</td>\n",
       "      <td>1</td>\n",
       "    </tr>\n",
       "    <tr>\n",
       "      <th>...</th>\n",
       "      <td>...</td>\n",
       "      <td>...</td>\n",
       "      <td>...</td>\n",
       "      <td>...</td>\n",
       "      <td>...</td>\n",
       "      <td>...</td>\n",
       "      <td>...</td>\n",
       "      <td>...</td>\n",
       "      <td>...</td>\n",
       "      <td>...</td>\n",
       "      <td>...</td>\n",
       "      <td>...</td>\n",
       "      <td>...</td>\n",
       "    </tr>\n",
       "    <tr>\n",
       "      <th>1041260</th>\n",
       "      <td>2</td>\n",
       "      <td>4</td>\n",
       "      <td>0</td>\n",
       "      <td>5</td>\n",
       "      <td>1</td>\n",
       "      <td>28</td>\n",
       "      <td>0</td>\n",
       "      <td>1</td>\n",
       "      <td>69650.41</td>\n",
       "      <td>13896.82</td>\n",
       "      <td>0.199522</td>\n",
       "      <td>3</td>\n",
       "      <td>1</td>\n",
       "    </tr>\n",
       "    <tr>\n",
       "      <th>1041261</th>\n",
       "      <td>2</td>\n",
       "      <td>0</td>\n",
       "      <td>0</td>\n",
       "      <td>1</td>\n",
       "      <td>1</td>\n",
       "      <td>227</td>\n",
       "      <td>0</td>\n",
       "      <td>0</td>\n",
       "      <td>13587.38</td>\n",
       "      <td>3918.35</td>\n",
       "      <td>0.288382</td>\n",
       "      <td>3</td>\n",
       "      <td>1</td>\n",
       "    </tr>\n",
       "    <tr>\n",
       "      <th>1041262</th>\n",
       "      <td>2</td>\n",
       "      <td>3</td>\n",
       "      <td>1</td>\n",
       "      <td>12</td>\n",
       "      <td>1</td>\n",
       "      <td>99</td>\n",
       "      <td>0</td>\n",
       "      <td>1</td>\n",
       "      <td>104629.78</td>\n",
       "      <td>24746.64</td>\n",
       "      <td>0.236516</td>\n",
       "      <td>3</td>\n",
       "      <td>0</td>\n",
       "    </tr>\n",
       "    <tr>\n",
       "      <th>1041263</th>\n",
       "      <td>2</td>\n",
       "      <td>2</td>\n",
       "      <td>0</td>\n",
       "      <td>1</td>\n",
       "      <td>1</td>\n",
       "      <td>109</td>\n",
       "      <td>1</td>\n",
       "      <td>1</td>\n",
       "      <td>27521.41</td>\n",
       "      <td>6766.04</td>\n",
       "      <td>0.245846</td>\n",
       "      <td>3</td>\n",
       "      <td>1</td>\n",
       "    </tr>\n",
       "    <tr>\n",
       "      <th>1041264</th>\n",
       "      <td>2</td>\n",
       "      <td>3</td>\n",
       "      <td>1</td>\n",
       "      <td>1</td>\n",
       "      <td>1</td>\n",
       "      <td>28</td>\n",
       "      <td>0</td>\n",
       "      <td>1</td>\n",
       "      <td>24832.23</td>\n",
       "      <td>4974.66</td>\n",
       "      <td>0.200331</td>\n",
       "      <td>2</td>\n",
       "      <td>1</td>\n",
       "    </tr>\n",
       "  </tbody>\n",
       "</table>\n",
       "<p>1041265 rows × 13 columns</p>\n",
       "</div>"
      ],
      "text/plain": [
       "         Hospital_County  Age  Gender  Days_spend_hsptl  Admission_type  \\\n",
       "0                      1    2       0                 3               0   \n",
       "1                      1    4       0                 3               5   \n",
       "2                      1    2       0                 2               5   \n",
       "3                      1    0       0                 0               5   \n",
       "4                      1    4       0                 2               0   \n",
       "...                  ...  ...     ...               ...             ...   \n",
       "1041260                2    4       0                 5               1   \n",
       "1041261                2    0       0                 1               1   \n",
       "1041262                2    3       1                12               1   \n",
       "1041263                2    2       0                 1               1   \n",
       "1041264                2    3       1                 1               1   \n",
       "\n",
       "         apr_drg_description  Surg_Description  Emergency_dept  Tot_charg  \\\n",
       "0                        237                 0               1    5511.95   \n",
       "1                         38                 0               1    4783.20   \n",
       "2                        237                 0               1    3829.15   \n",
       "3                        237                 0               1    1108.20   \n",
       "4                        237                 0               1    3418.18   \n",
       "...                      ...               ...             ...        ...   \n",
       "1041260                   28                 0               1   69650.41   \n",
       "1041261                  227                 0               0   13587.38   \n",
       "1041262                   99                 0               1  104629.78   \n",
       "1041263                  109                 1               1   27521.41   \n",
       "1041264                   28                 0               1   24832.23   \n",
       "\n",
       "         Tot_cost  ratio_of_total_costs_to_total_charges  Payment_Typology  \\\n",
       "0         5582.49                               1.012798                 1   \n",
       "1         5162.82                               1.079365                 1   \n",
       "2         4056.52                               1.059379                 1   \n",
       "3         1644.75                               1.484167                 1   \n",
       "4         3370.87                               0.986161                 1   \n",
       "...           ...                                    ...               ...   \n",
       "1041260  13896.82                               0.199522                 3   \n",
       "1041261   3918.35                               0.288382                 3   \n",
       "1041262  24746.64                               0.236516                 3   \n",
       "1041263   6766.04                               0.245846                 3   \n",
       "1041264   4974.66                               0.200331                 2   \n",
       "\n",
       "         outcome  \n",
       "0              1  \n",
       "1              1  \n",
       "2              1  \n",
       "3              0  \n",
       "4              1  \n",
       "...          ...  \n",
       "1041260        1  \n",
       "1041261        1  \n",
       "1041262        0  \n",
       "1041263        1  \n",
       "1041264        1  \n",
       "\n",
       "[1041265 rows x 13 columns]"
      ]
     },
     "execution_count": 6,
     "metadata": {},
     "output_type": "execute_result"
    }
   ],
   "source": [
    "ins_data_2=ins_data.drop(['Area_Service','Hospital Id','Cultural_group','ethnicity','Weight_baby','Abortion','Home_or_self_care','ccs_diagnosis_code','ccs_procedure_code','Code_illness','Mortality risk'],axis=1)\n",
    "ins_data_2"
   ]
  },
  {
   "cell_type": "code",
   "execution_count": 7,
   "id": "40eb406a",
   "metadata": {},
   "outputs": [],
   "source": [
    "#DECLARING FEATURE AND TARGET VARIABLES\n",
    "X=ins_data_2.drop('outcome',axis=1)\n",
    "y=ins_data_2[['outcome']]"
   ]
  },
  {
   "cell_type": "code",
   "execution_count": 8,
   "id": "cfb052a0",
   "metadata": {},
   "outputs": [
    {
     "data": {
      "text/html": [
       "<div>\n",
       "<style scoped>\n",
       "    .dataframe tbody tr th:only-of-type {\n",
       "        vertical-align: middle;\n",
       "    }\n",
       "\n",
       "    .dataframe tbody tr th {\n",
       "        vertical-align: top;\n",
       "    }\n",
       "\n",
       "    .dataframe thead th {\n",
       "        text-align: right;\n",
       "    }\n",
       "</style>\n",
       "<table border=\"1\" class=\"dataframe\">\n",
       "  <thead>\n",
       "    <tr style=\"text-align: right;\">\n",
       "      <th></th>\n",
       "      <th>Hospital_County</th>\n",
       "      <th>Age</th>\n",
       "      <th>Gender</th>\n",
       "      <th>Days_spend_hsptl</th>\n",
       "      <th>Admission_type</th>\n",
       "      <th>apr_drg_description</th>\n",
       "      <th>Surg_Description</th>\n",
       "      <th>Emergency_dept</th>\n",
       "      <th>Tot_charg</th>\n",
       "      <th>Tot_cost</th>\n",
       "      <th>ratio_of_total_costs_to_total_charges</th>\n",
       "      <th>Payment_Typology</th>\n",
       "    </tr>\n",
       "  </thead>\n",
       "  <tbody>\n",
       "    <tr>\n",
       "      <th>0</th>\n",
       "      <td>-1.497934</td>\n",
       "      <td>-0.349542</td>\n",
       "      <td>-0.876937</td>\n",
       "      <td>-0.180139</td>\n",
       "      <td>-0.925115</td>\n",
       "      <td>0.819899</td>\n",
       "      <td>-0.549727</td>\n",
       "      <td>0.878193</td>\n",
       "      <td>-0.394525</td>\n",
       "      <td>-0.220491</td>\n",
       "      <td>0.693597</td>\n",
       "      <td>-1.215978</td>\n",
       "    </tr>\n",
       "    <tr>\n",
       "      <th>1</th>\n",
       "      <td>-1.497934</td>\n",
       "      <td>1.114346</td>\n",
       "      <td>-0.876937</td>\n",
       "      <td>-0.180139</td>\n",
       "      <td>2.665850</td>\n",
       "      <td>-1.217131</td>\n",
       "      <td>-0.549727</td>\n",
       "      <td>0.878193</td>\n",
       "      <td>-0.407770</td>\n",
       "      <td>-0.239274</td>\n",
       "      <td>0.776532</td>\n",
       "      <td>-1.215978</td>\n",
       "    </tr>\n",
       "    <tr>\n",
       "      <th>2</th>\n",
       "      <td>-1.497934</td>\n",
       "      <td>-0.349542</td>\n",
       "      <td>-0.876937</td>\n",
       "      <td>-0.306086</td>\n",
       "      <td>2.665850</td>\n",
       "      <td>0.819899</td>\n",
       "      <td>-0.549727</td>\n",
       "      <td>0.878193</td>\n",
       "      <td>-0.425109</td>\n",
       "      <td>-0.288787</td>\n",
       "      <td>0.751632</td>\n",
       "      <td>-1.215978</td>\n",
       "    </tr>\n",
       "    <tr>\n",
       "      <th>3</th>\n",
       "      <td>-1.497934</td>\n",
       "      <td>-1.813430</td>\n",
       "      <td>-0.876937</td>\n",
       "      <td>-0.557979</td>\n",
       "      <td>2.665850</td>\n",
       "      <td>0.819899</td>\n",
       "      <td>-0.549727</td>\n",
       "      <td>0.878193</td>\n",
       "      <td>-0.474563</td>\n",
       "      <td>-0.396727</td>\n",
       "      <td>1.280871</td>\n",
       "      <td>-1.215978</td>\n",
       "    </tr>\n",
       "    <tr>\n",
       "      <th>4</th>\n",
       "      <td>-1.497934</td>\n",
       "      <td>1.114346</td>\n",
       "      <td>-0.876937</td>\n",
       "      <td>-0.306086</td>\n",
       "      <td>-0.925115</td>\n",
       "      <td>0.819899</td>\n",
       "      <td>-0.549727</td>\n",
       "      <td>0.878193</td>\n",
       "      <td>-0.432579</td>\n",
       "      <td>-0.319474</td>\n",
       "      <td>0.660410</td>\n",
       "      <td>-1.215978</td>\n",
       "    </tr>\n",
       "    <tr>\n",
       "      <th>...</th>\n",
       "      <td>...</td>\n",
       "      <td>...</td>\n",
       "      <td>...</td>\n",
       "      <td>...</td>\n",
       "      <td>...</td>\n",
       "      <td>...</td>\n",
       "      <td>...</td>\n",
       "      <td>...</td>\n",
       "      <td>...</td>\n",
       "      <td>...</td>\n",
       "      <td>...</td>\n",
       "      <td>...</td>\n",
       "    </tr>\n",
       "    <tr>\n",
       "      <th>1041260</th>\n",
       "      <td>-1.432382</td>\n",
       "      <td>1.114346</td>\n",
       "      <td>-0.876937</td>\n",
       "      <td>0.071754</td>\n",
       "      <td>-0.206922</td>\n",
       "      <td>-1.319495</td>\n",
       "      <td>-0.549727</td>\n",
       "      <td>0.878193</td>\n",
       "      <td>0.771193</td>\n",
       "      <td>0.151623</td>\n",
       "      <td>-0.319655</td>\n",
       "      <td>1.375642</td>\n",
       "    </tr>\n",
       "    <tr>\n",
       "      <th>1041261</th>\n",
       "      <td>-1.432382</td>\n",
       "      <td>-1.813430</td>\n",
       "      <td>-0.876937</td>\n",
       "      <td>-0.432032</td>\n",
       "      <td>-0.206922</td>\n",
       "      <td>0.717535</td>\n",
       "      <td>-0.549727</td>\n",
       "      <td>-1.138702</td>\n",
       "      <td>-0.247753</td>\n",
       "      <td>-0.294971</td>\n",
       "      <td>-0.208946</td>\n",
       "      <td>1.375642</td>\n",
       "    </tr>\n",
       "    <tr>\n",
       "      <th>1041262</th>\n",
       "      <td>-1.432382</td>\n",
       "      <td>0.382402</td>\n",
       "      <td>1.140093</td>\n",
       "      <td>0.953381</td>\n",
       "      <td>-0.206922</td>\n",
       "      <td>-0.592715</td>\n",
       "      <td>-0.549727</td>\n",
       "      <td>0.878193</td>\n",
       "      <td>1.406944</td>\n",
       "      <td>0.637215</td>\n",
       "      <td>-0.273564</td>\n",
       "      <td>1.375642</td>\n",
       "    </tr>\n",
       "    <tr>\n",
       "      <th>1041263</th>\n",
       "      <td>-1.432382</td>\n",
       "      <td>-0.349542</td>\n",
       "      <td>-0.876937</td>\n",
       "      <td>-0.432032</td>\n",
       "      <td>-0.206922</td>\n",
       "      <td>-0.490352</td>\n",
       "      <td>1.819085</td>\n",
       "      <td>0.878193</td>\n",
       "      <td>0.005498</td>\n",
       "      <td>-0.167520</td>\n",
       "      <td>-0.261940</td>\n",
       "      <td>1.375642</td>\n",
       "    </tr>\n",
       "    <tr>\n",
       "      <th>1041264</th>\n",
       "      <td>-1.432382</td>\n",
       "      <td>0.382402</td>\n",
       "      <td>1.140093</td>\n",
       "      <td>-0.432032</td>\n",
       "      <td>-0.206922</td>\n",
       "      <td>-1.319495</td>\n",
       "      <td>-0.549727</td>\n",
       "      <td>0.878193</td>\n",
       "      <td>-0.043378</td>\n",
       "      <td>-0.247695</td>\n",
       "      <td>-0.318648</td>\n",
       "      <td>0.079832</td>\n",
       "    </tr>\n",
       "  </tbody>\n",
       "</table>\n",
       "<p>1041265 rows × 12 columns</p>\n",
       "</div>"
      ],
      "text/plain": [
       "         Hospital_County       Age    Gender  Days_spend_hsptl  \\\n",
       "0              -1.497934 -0.349542 -0.876937         -0.180139   \n",
       "1              -1.497934  1.114346 -0.876937         -0.180139   \n",
       "2              -1.497934 -0.349542 -0.876937         -0.306086   \n",
       "3              -1.497934 -1.813430 -0.876937         -0.557979   \n",
       "4              -1.497934  1.114346 -0.876937         -0.306086   \n",
       "...                  ...       ...       ...               ...   \n",
       "1041260        -1.432382  1.114346 -0.876937          0.071754   \n",
       "1041261        -1.432382 -1.813430 -0.876937         -0.432032   \n",
       "1041262        -1.432382  0.382402  1.140093          0.953381   \n",
       "1041263        -1.432382 -0.349542 -0.876937         -0.432032   \n",
       "1041264        -1.432382  0.382402  1.140093         -0.432032   \n",
       "\n",
       "         Admission_type  apr_drg_description  Surg_Description  \\\n",
       "0             -0.925115             0.819899         -0.549727   \n",
       "1              2.665850            -1.217131         -0.549727   \n",
       "2              2.665850             0.819899         -0.549727   \n",
       "3              2.665850             0.819899         -0.549727   \n",
       "4             -0.925115             0.819899         -0.549727   \n",
       "...                 ...                  ...               ...   \n",
       "1041260       -0.206922            -1.319495         -0.549727   \n",
       "1041261       -0.206922             0.717535         -0.549727   \n",
       "1041262       -0.206922            -0.592715         -0.549727   \n",
       "1041263       -0.206922            -0.490352          1.819085   \n",
       "1041264       -0.206922            -1.319495         -0.549727   \n",
       "\n",
       "         Emergency_dept  Tot_charg  Tot_cost  \\\n",
       "0              0.878193  -0.394525 -0.220491   \n",
       "1              0.878193  -0.407770 -0.239274   \n",
       "2              0.878193  -0.425109 -0.288787   \n",
       "3              0.878193  -0.474563 -0.396727   \n",
       "4              0.878193  -0.432579 -0.319474   \n",
       "...                 ...        ...       ...   \n",
       "1041260        0.878193   0.771193  0.151623   \n",
       "1041261       -1.138702  -0.247753 -0.294971   \n",
       "1041262        0.878193   1.406944  0.637215   \n",
       "1041263        0.878193   0.005498 -0.167520   \n",
       "1041264        0.878193  -0.043378 -0.247695   \n",
       "\n",
       "         ratio_of_total_costs_to_total_charges  Payment_Typology  \n",
       "0                                     0.693597         -1.215978  \n",
       "1                                     0.776532         -1.215978  \n",
       "2                                     0.751632         -1.215978  \n",
       "3                                     1.280871         -1.215978  \n",
       "4                                     0.660410         -1.215978  \n",
       "...                                        ...               ...  \n",
       "1041260                              -0.319655          1.375642  \n",
       "1041261                              -0.208946          1.375642  \n",
       "1041262                              -0.273564          1.375642  \n",
       "1041263                              -0.261940          1.375642  \n",
       "1041264                              -0.318648          0.079832  \n",
       "\n",
       "[1041265 rows x 12 columns]"
      ]
     },
     "execution_count": 8,
     "metadata": {},
     "output_type": "execute_result"
    }
   ],
   "source": [
    "from sklearn.preprocessing import StandardScaler\n",
    "scale_model=StandardScaler()\n",
    "scale_model=scale_model.fit_transform(X)\n",
    "X_scaled=pd.DataFrame(data=scale_model,columns=X.columns)\n",
    "X_scaled"
   ]
  },
  {
   "cell_type": "code",
   "execution_count": 9,
   "id": "2eff3381",
   "metadata": {},
   "outputs": [
    {
     "data": {
      "text/html": [
       "<div>\n",
       "<style scoped>\n",
       "    .dataframe tbody tr th:only-of-type {\n",
       "        vertical-align: middle;\n",
       "    }\n",
       "\n",
       "    .dataframe tbody tr th {\n",
       "        vertical-align: top;\n",
       "    }\n",
       "\n",
       "    .dataframe thead th {\n",
       "        text-align: right;\n",
       "    }\n",
       "</style>\n",
       "<table border=\"1\" class=\"dataframe\">\n",
       "  <thead>\n",
       "    <tr style=\"text-align: right;\">\n",
       "      <th></th>\n",
       "      <th>outcome</th>\n",
       "    </tr>\n",
       "  </thead>\n",
       "  <tbody>\n",
       "    <tr>\n",
       "      <th>0</th>\n",
       "      <td>1</td>\n",
       "    </tr>\n",
       "    <tr>\n",
       "      <th>1</th>\n",
       "      <td>1</td>\n",
       "    </tr>\n",
       "    <tr>\n",
       "      <th>2</th>\n",
       "      <td>1</td>\n",
       "    </tr>\n",
       "    <tr>\n",
       "      <th>3</th>\n",
       "      <td>0</td>\n",
       "    </tr>\n",
       "    <tr>\n",
       "      <th>4</th>\n",
       "      <td>1</td>\n",
       "    </tr>\n",
       "    <tr>\n",
       "      <th>...</th>\n",
       "      <td>...</td>\n",
       "    </tr>\n",
       "    <tr>\n",
       "      <th>1041260</th>\n",
       "      <td>1</td>\n",
       "    </tr>\n",
       "    <tr>\n",
       "      <th>1041261</th>\n",
       "      <td>1</td>\n",
       "    </tr>\n",
       "    <tr>\n",
       "      <th>1041262</th>\n",
       "      <td>0</td>\n",
       "    </tr>\n",
       "    <tr>\n",
       "      <th>1041263</th>\n",
       "      <td>1</td>\n",
       "    </tr>\n",
       "    <tr>\n",
       "      <th>1041264</th>\n",
       "      <td>1</td>\n",
       "    </tr>\n",
       "  </tbody>\n",
       "</table>\n",
       "<p>1041265 rows × 1 columns</p>\n",
       "</div>"
      ],
      "text/plain": [
       "         outcome\n",
       "0              1\n",
       "1              1\n",
       "2              1\n",
       "3              0\n",
       "4              1\n",
       "...          ...\n",
       "1041260        1\n",
       "1041261        1\n",
       "1041262        0\n",
       "1041263        1\n",
       "1041264        1\n",
       "\n",
       "[1041265 rows x 1 columns]"
      ]
     },
     "execution_count": 9,
     "metadata": {},
     "output_type": "execute_result"
    }
   ],
   "source": [
    "y"
   ]
  },
  {
   "cell_type": "code",
   "execution_count": 10,
   "id": "60b7fcd9",
   "metadata": {},
   "outputs": [],
   "source": [
    "# Oversample 1-class and concat the DataFrames of both classes\n",
    "#df_class_1_over = df_class_1.sample(count_class_0, replace=True)\n",
    "#df_test_over = pd.concat([df_class_0, df_class_1_over], axis=0)\n",
    "\n",
    "#print('Random over-sampling:')\n",
    "#print(df_test_over.Churn.value_counts())"
   ]
  },
  {
   "cell_type": "code",
   "execution_count": 11,
   "id": "64590180",
   "metadata": {},
   "outputs": [
    {
     "name": "stdout",
     "output_type": "stream",
     "text": [
      "Requirement already satisfied: imbalanced-learn in c:\\users\\priyanka\\anaconda3\\lib\\site-packages (0.9.0)\n",
      "Requirement already satisfied: scipy>=1.1.0 in c:\\users\\priyanka\\anaconda3\\lib\\site-packages (from imbalanced-learn) (1.7.1)\n",
      "Requirement already satisfied: joblib>=0.11 in c:\\users\\priyanka\\anaconda3\\lib\\site-packages (from imbalanced-learn) (1.1.0)\n",
      "Requirement already satisfied: threadpoolctl>=2.0.0 in c:\\users\\priyanka\\anaconda3\\lib\\site-packages (from imbalanced-learn) (2.2.0)\n",
      "Requirement already satisfied: numpy>=1.14.6 in c:\\users\\priyanka\\anaconda3\\lib\\site-packages (from imbalanced-learn) (1.20.3)\n",
      "Requirement already satisfied: scikit-learn>=1.0.1 in c:\\users\\priyanka\\anaconda3\\lib\\site-packages (from imbalanced-learn) (1.0.2)\n"
     ]
    },
    {
     "name": "stderr",
     "output_type": "stream",
     "text": [
      "WARNING: Ignoring invalid distribution -treamlit (c:\\users\\priyanka\\anaconda3\\lib\\site-packages)\n",
      "WARNING: Ignoring invalid distribution -treamlit (c:\\users\\priyanka\\anaconda3\\lib\\site-packages)\n",
      "WARNING: Ignoring invalid distribution -treamlit (c:\\users\\priyanka\\anaconda3\\lib\\site-packages)\n",
      "WARNING: Ignoring invalid distribution -treamlit (c:\\users\\priyanka\\anaconda3\\lib\\site-packages)\n",
      "WARNING: Ignoring invalid distribution -treamlit (c:\\users\\priyanka\\anaconda3\\lib\\site-packages)\n",
      "WARNING: Ignoring invalid distribution -treamlit (c:\\users\\priyanka\\anaconda3\\lib\\site-packages)\n"
     ]
    }
   ],
   "source": [
    "!pip install imbalanced-learn"
   ]
  },
  {
   "cell_type": "markdown",
   "id": "58afd1d3",
   "metadata": {},
   "source": [
    "###  Random Oversampling\n"
   ]
  },
  {
   "cell_type": "code",
   "execution_count": 12,
   "id": "f2164ccc",
   "metadata": {},
   "outputs": [
    {
     "data": {
      "text/plain": [
       "((1560722, 12), (1560722, 1))"
      ]
     },
     "execution_count": 12,
     "metadata": {},
     "output_type": "execute_result"
    }
   ],
   "source": [
    "from imblearn.over_sampling import RandomOverSampler\n",
    "os =  RandomOverSampler(sampling_strategy='minority')\n",
    "X_os, y_os = os.fit_resample(X_scaled, y)\n",
    "X_os.shape,y_os.shape\n"
   ]
  },
  {
   "cell_type": "code",
   "execution_count": 13,
   "id": "e5a7210b",
   "metadata": {},
   "outputs": [
    {
     "name": "stdout",
     "output_type": "stream",
     "text": [
      "Counter({'outcome': 1})\n",
      "Counter({'outcome': 1})\n"
     ]
    }
   ],
   "source": [
    "from collections import Counter\n",
    "print(Counter(y))\n",
    "print(Counter(y_os))"
   ]
  },
  {
   "cell_type": "code",
   "execution_count": 14,
   "id": "3c6dfb8e",
   "metadata": {},
   "outputs": [
    {
     "data": {
      "text/plain": [
       "outcome\n",
       "0          780361\n",
       "1          780361\n",
       "dtype: int64"
      ]
     },
     "execution_count": 14,
     "metadata": {},
     "output_type": "execute_result"
    }
   ],
   "source": [
    "y_os.value_counts()"
   ]
  },
  {
   "cell_type": "raw",
   "id": "e2d6e368",
   "metadata": {},
   "source": [
    "# Here we are checking the graph before balancing"
   ]
  },
  {
   "cell_type": "code",
   "execution_count": 15,
   "id": "0544b4a7",
   "metadata": {},
   "outputs": [
    {
     "data": {
      "image/png": "[encoded data removed]",
      "text/plain": [
       "<Figure size 720x720 with 1 Axes>"
      ]
     },
     "metadata": {},
     "output_type": "display_data"
    }
   ],
   "source": [
    "plt.figure(figsize=(10,10))\n",
    "plt.pie(y.value_counts(),labels=['Genuine Claim','Fraud Claim'],explode=[0.02,0.02],autopct='%1.0f%%')\n",
    "plt.show()"
   ]
  },
  {
   "cell_type": "raw",
   "id": "6307fd6d",
   "metadata": {},
   "source": [
    "# Here we are checking the graph before balancing"
   ]
  },
  {
   "cell_type": "code",
   "execution_count": 16,
   "id": "35fb30e2",
   "metadata": {},
   "outputs": [
    {
     "data": {
      "image/png": "[encoded data removed]",
      "text/plain": [
       "<Figure size 720x720 with 1 Axes>"
      ]
     },
     "metadata": {},
     "output_type": "display_data"
    }
   ],
   "source": [
    "plt.figure(figsize=(10,10))\n",
    "plt.pie(y_os.value_counts(),labels=['Genuine Claim','Fraud Claim'],explode=[0.02,0.02],autopct='%1.0f%%')\n",
    "plt.show()"
   ]
  },
  {
   "cell_type": "code",
   "execution_count": 17,
   "id": "7ce373a7",
   "metadata": {},
   "outputs": [],
   "source": [
    "# Here the data will be divided into training and testing data set.\n",
    "# let's take training data = 80%\n",
    "# let's take testing data = 20%\n",
    "# using train-test-split we split the data "
   ]
  },
  {
   "cell_type": "markdown",
   "id": "806d1f47",
   "metadata": {},
   "source": [
    "### >>>> MODEL 1: LOGISTIC REGRESSION"
   ]
  },
  {
   "cell_type": "code",
   "execution_count": 18,
   "id": "0cbd670d",
   "metadata": {},
   "outputs": [],
   "source": [
    "from sklearn.model_selection import train_test_split"
   ]
  },
  {
   "cell_type": "code",
   "execution_count": 19,
   "id": "0f207717",
   "metadata": {},
   "outputs": [],
   "source": [
    "X_train,X_test,y_train,y_test = train_test_split(X_os,y_os,test_size=0.20,random_state=15,stratify=y_os)"
   ]
  },
  {
   "cell_type": "code",
   "execution_count": 20,
   "id": "c266a723",
   "metadata": {},
   "outputs": [
    {
     "data": {
      "text/plain": [
       "((1248577, 12), (1248577, 1))"
      ]
     },
     "execution_count": 20,
     "metadata": {},
     "output_type": "execute_result"
    }
   ],
   "source": [
    "X_train.shape,y_train.shape"
   ]
  },
  {
   "cell_type": "code",
   "execution_count": 21,
   "id": "78771437",
   "metadata": {},
   "outputs": [
    {
     "data": {
      "text/plain": [
       "((312145, 12), (312145, 1))"
      ]
     },
     "execution_count": 21,
     "metadata": {},
     "output_type": "execute_result"
    }
   ],
   "source": [
    "X_test.shape,y_test.shape"
   ]
  },
  {
   "cell_type": "code",
   "execution_count": 22,
   "id": "8ae41cc1",
   "metadata": {},
   "outputs": [
    {
     "name": "stderr",
     "output_type": "stream",
     "text": [
      "C:\\Users\\PRIYANKA\\Anaconda3\\lib\\site-packages\\sklearn\\utils\\validation.py:993: DataConversionWarning: A column-vector y was passed when a 1d array was expected. Please change the shape of y to (n_samples, ), for example using ravel().\n",
      "  y = column_or_1d(y, warn=True)\n"
     ]
    },
    {
     "data": {
      "text/plain": [
       "LogisticRegression()"
      ]
     },
     "execution_count": 22,
     "metadata": {},
     "output_type": "execute_result"
    }
   ],
   "source": [
    "from sklearn.linear_model import LogisticRegression\n",
    "logistic_model=LogisticRegression()\n",
    "logistic_model.fit(X_train,y_train)"
   ]
  },
  {
   "cell_type": "code",
   "execution_count": 23,
   "id": "2c392a83",
   "metadata": {},
   "outputs": [
    {
     "data": {
      "text/plain": [
       "array([[-3.75310636e-03,  2.12424738e-03,  8.72957323e-04,\n",
       "         1.87199557e-03, -3.46057326e-03, -9.05055072e-05,\n",
       "        -2.78617150e-03,  3.85029039e-03,  5.06333649e-04,\n",
       "        -7.00423524e-03,  7.10192782e-03,  2.82472031e-03]])"
      ]
     },
     "execution_count": 23,
     "metadata": {},
     "output_type": "execute_result"
    }
   ],
   "source": [
    "logistic_model.coef_"
   ]
  },
  {
   "cell_type": "code",
   "execution_count": 24,
   "id": "f2d36db0",
   "metadata": {},
   "outputs": [
    {
     "data": {
      "text/plain": [
       "array([3.3421687e-05])"
      ]
     },
     "execution_count": 24,
     "metadata": {},
     "output_type": "execute_result"
    }
   ],
   "source": [
    "logistic_model.intercept_"
   ]
  },
  {
   "cell_type": "code",
   "execution_count": 25,
   "id": "f763fd13",
   "metadata": {},
   "outputs": [],
   "source": [
    "# PERFORMING MODEL TESTING AND MODEL EVALUATION"
   ]
  },
  {
   "cell_type": "code",
   "execution_count": 26,
   "id": "fedaa4d0",
   "metadata": {},
   "outputs": [
    {
     "data": {
      "text/plain": [
       "array([0, 1, 1, ..., 1, 0, 1], dtype=int64)"
      ]
     },
     "execution_count": 26,
     "metadata": {},
     "output_type": "execute_result"
    }
   ],
   "source": [
    "#training dataset\n",
    "y_pred_train=logistic_model.predict(X_train)\n",
    "y_pred_train"
   ]
  },
  {
   "cell_type": "code",
   "execution_count": 27,
   "id": "6ba915b6",
   "metadata": {},
   "outputs": [
    {
     "name": "stdout",
     "output_type": "stream",
     "text": [
      "0.5025136615523111\n"
     ]
    }
   ],
   "source": [
    "from sklearn.metrics import accuracy_score,classification_report,confusion_matrix\n",
    "print(accuracy_score(y_train,y_pred_train))"
   ]
  },
  {
   "cell_type": "code",
   "execution_count": 28,
   "id": "cd7d696f",
   "metadata": {},
   "outputs": [
    {
     "name": "stdout",
     "output_type": "stream",
     "text": [
      "Classification Report:\n",
      "               precision    recall  f1-score   support\n",
      "\n",
      "           0       0.50      0.47      0.49    624288\n",
      "           1       0.50      0.53      0.52    624289\n",
      "\n",
      "    accuracy                           0.50   1248577\n",
      "   macro avg       0.50      0.50      0.50   1248577\n",
      "weighted avg       0.50      0.50      0.50   1248577\n",
      "\n"
     ]
    }
   ],
   "source": [
    "print('Classification Report:\\n',classification_report(y_train,y_pred_train))"
   ]
  },
  {
   "cell_type": "code",
   "execution_count": 29,
   "id": "31192e2d",
   "metadata": {},
   "outputs": [
    {
     "name": "stdout",
     "output_type": "stream",
     "text": [
      "Confusion Matrix:\n",
      " [[295645 328643]\n",
      " [292507 331782]]\n"
     ]
    }
   ],
   "source": [
    "print('Confusion Matrix:\\n',confusion_matrix(y_train,y_pred_train))"
   ]
  },
  {
   "cell_type": "code",
   "execution_count": 30,
   "id": "132b4d54",
   "metadata": {},
   "outputs": [
    {
     "name": "stdout",
     "output_type": "stream",
     "text": [
      "0.5025136383722064\n"
     ]
    },
    {
     "data": {
      "text/plain": [
       "Text(0, 0.5, 'True Positive Rate')"
      ]
     },
     "execution_count": 30,
     "metadata": {},
     "output_type": "execute_result"
    },
    {
     "data": {
      "image/png": "[encoded data removed]",
      "text/plain": [
       "<Figure size 432x288 with 1 Axes>"
      ]
     },
     "metadata": {
      "needs_background": "light"
     },
     "output_type": "display_data"
    }
   ],
   "source": [
    "from sklearn.metrics import roc_curve,roc_auc_score\n",
    "fpr, tpr, thresholds = roc_curve(y_os, logistic_model.predict_proba (X_os)[:,1])\n",
    "\n",
    "auc = roc_auc_score(y_train,y_pred_train)\n",
    "print(auc)\n",
    "\n",
    "import matplotlib.pyplot as plt\n",
    "plt.plot(fpr, tpr, color='blue', label='logit model ( area  = %0.2f)'%auc)\n",
    "plt.plot([0, 1], [0, 1], 'k--')\n",
    "plt.xlabel('False Positive Rate or [1 - True Negative Rate]')\n",
    "plt.ylabel('True Positive Rate')"
   ]
  },
  {
   "cell_type": "code",
   "execution_count": 31,
   "id": "cc14e112",
   "metadata": {},
   "outputs": [],
   "source": [
    "#test data"
   ]
  },
  {
   "cell_type": "code",
   "execution_count": 32,
   "id": "666ba366",
   "metadata": {},
   "outputs": [
    {
     "data": {
      "text/plain": [
       "array([0, 1, 0, ..., 0, 1, 0], dtype=int64)"
      ]
     },
     "execution_count": 32,
     "metadata": {},
     "output_type": "execute_result"
    }
   ],
   "source": [
    "y_pred_test=logistic_model.predict(X_test)\n",
    "y_pred_test"
   ]
  },
  {
   "cell_type": "code",
   "execution_count": 33,
   "id": "ed9e85a4",
   "metadata": {},
   "outputs": [
    {
     "name": "stdout",
     "output_type": "stream",
     "text": [
      "0.5033462012846593\n"
     ]
    }
   ],
   "source": [
    "from sklearn.metrics import accuracy_score,classification_report,confusion_matrix\n",
    "print(accuracy_score(y_test,y_pred_test))"
   ]
  },
  {
   "cell_type": "code",
   "execution_count": 34,
   "id": "7287361b",
   "metadata": {},
   "outputs": [
    {
     "name": "stdout",
     "output_type": "stream",
     "text": [
      "Classification Report:\n",
      "               precision    recall  f1-score   support\n",
      "\n",
      "           0       0.50      0.47      0.49    156073\n",
      "           1       0.50      0.53      0.52    156072\n",
      "\n",
      "    accuracy                           0.50    312145\n",
      "   macro avg       0.50      0.50      0.50    312145\n",
      "weighted avg       0.50      0.50      0.50    312145\n",
      "\n"
     ]
    }
   ],
   "source": [
    "print('Classification Report:\\n',classification_report(y_test,y_pred_test))"
   ]
  },
  {
   "cell_type": "code",
   "execution_count": 35,
   "id": "0960f353",
   "metadata": {},
   "outputs": [
    {
     "name": "stdout",
     "output_type": "stream",
     "text": [
      "Confusion Matrix:\n",
      " [[74124 81949]\n",
      " [73079 82993]]\n"
     ]
    }
   ],
   "source": [
    "print('Confusion Matrix:\\n',confusion_matrix(y_test,y_pred_test))"
   ]
  },
  {
   "cell_type": "code",
   "execution_count": 36,
   "id": "2ea01aa7",
   "metadata": {
    "scrolled": true
   },
   "outputs": [
    {
     "name": "stdout",
     "output_type": "stream",
     "text": [
      "0.5033462923150773\n"
     ]
    },
    {
     "data": {
      "text/plain": [
       "Text(0, 0.5, 'True Positive Rate')"
      ]
     },
     "execution_count": 36,
     "metadata": {},
     "output_type": "execute_result"
    },
    {
     "data": {
      "image/png": "[encoded data removed]",
      "text/plain": [
       "<Figure size 432x288 with 1 Axes>"
      ]
     },
     "metadata": {
      "needs_background": "light"
     },
     "output_type": "display_data"
    }
   ],
   "source": [
    "from sklearn.metrics import roc_curve,roc_auc_score\n",
    "fpr, tpr, thresholds = roc_curve(y_os, logistic_model.predict_proba (X_os)[:,1])\n",
    "\n",
    "auc = roc_auc_score(y_test,y_pred_test)\n",
    "print(auc)\n",
    "\n",
    "import matplotlib.pyplot as plt\n",
    "plt.plot(fpr, tpr, color='blue', label='logit model ( area  = %0.2f)'%auc)\n",
    "plt.plot([0, 1], [0, 1], 'k--')\n",
    "plt.xlabel('False Positive Rate or [1 - True Negative Rate]')\n",
    "plt.ylabel('True Positive Rate')"
   ]
  },
  {
   "cell_type": "markdown",
   "id": "67aa6792",
   "metadata": {},
   "source": [
    "### >>>> model 02 :DECISION TREE"
   ]
  },
  {
   "cell_type": "code",
   "execution_count": 37,
   "id": "62ef26be",
   "metadata": {},
   "outputs": [],
   "source": [
    "# USING ONLY DECISION TREE CLASSIFIER WITH NO CRITERIA"
   ]
  },
  {
   "cell_type": "code",
   "execution_count": 38,
   "id": "899fd224",
   "metadata": {},
   "outputs": [
    {
     "data": {
      "text/plain": [
       "DecisionTreeClassifier(max_depth=5)"
      ]
     },
     "execution_count": 38,
     "metadata": {},
     "output_type": "execute_result"
    }
   ],
   "source": [
    "from sklearn.tree import DecisionTreeClassifier\n",
    "dt_model=DecisionTreeClassifier(max_depth=5)\n",
    "dt_model.fit(X_train,y_train)"
   ]
  },
  {
   "cell_type": "code",
   "execution_count": 39,
   "id": "4abf468f",
   "metadata": {},
   "outputs": [],
   "source": [
    "# PERFORMING GRID SEARCH CV"
   ]
  },
  {
   "cell_type": "code",
   "execution_count": 40,
   "id": "b90088bd",
   "metadata": {},
   "outputs": [],
   "source": [
    "#from sklearn.model_selection import GridSearchCV\n",
    "#grid_search=GridSearchCV(estimator=dt_model,\n",
    "  #                       param_grid={'criterion':['entropy','gini'],\n",
    "   #                                  'max_depth':[1,2,3,4,5,6,7,8,9,10]},\n",
    "    #         cv=5)\n",
    "#grid_search.fit(X,y)\n",
    "#print('grid_search_parameters:',grid_search.best_params_)\n",
    "#print('grid_search_score:',grid_search.best_score_)"
   ]
  },
  {
   "cell_type": "code",
   "execution_count": 41,
   "id": "9b05732f",
   "metadata": {},
   "outputs": [],
   "source": [
    "from sklearn.model_selection import train_test_split\n",
    "X_train,X_test,y_train,y_test=train_test_split(X_os,y_os,test_size=0.20,random_state=15,shuffle=True)"
   ]
  },
  {
   "cell_type": "code",
   "execution_count": 42,
   "id": "ae8c17d4",
   "metadata": {},
   "outputs": [
    {
     "data": {
      "text/plain": [
       "array([1, 1, 0, ..., 1, 1, 0], dtype=int64)"
      ]
     },
     "execution_count": 42,
     "metadata": {},
     "output_type": "execute_result"
    }
   ],
   "source": [
    "## USING ENTROPY PERFORMIG MODEL TESTING AND MODEL TRAINING\n",
    "y_pred_train_dt=dt_model.predict(X_train)\n",
    "y_pred_train_dt"
   ]
  },
  {
   "cell_type": "code",
   "execution_count": 43,
   "id": "fbc19c17",
   "metadata": {},
   "outputs": [
    {
     "name": "stdout",
     "output_type": "stream",
     "text": [
      "0.5031135444590121\n"
     ]
    }
   ],
   "source": [
    "from sklearn.metrics import accuracy_score,classification_report,confusion_matrix\n",
    "print(accuracy_score(y_train,y_pred_train_dt))"
   ]
  },
  {
   "cell_type": "code",
   "execution_count": 44,
   "id": "354beb08",
   "metadata": {},
   "outputs": [
    {
     "name": "stdout",
     "output_type": "stream",
     "text": [
      "              precision    recall  f1-score   support\n",
      "\n",
      "           0       0.50      0.39      0.44    624261\n",
      "           1       0.50      0.62      0.55    624316\n",
      "\n",
      "    accuracy                           0.50   1248577\n",
      "   macro avg       0.50      0.50      0.50   1248577\n",
      "weighted avg       0.50      0.50      0.50   1248577\n",
      "\n"
     ]
    }
   ],
   "source": [
    "print(classification_report(y_train,y_pred_train_dt))"
   ]
  },
  {
   "cell_type": "code",
   "execution_count": 45,
   "id": "e238a7c5",
   "metadata": {},
   "outputs": [
    {
     "name": "stdout",
     "output_type": "stream",
     "text": [
      "[[242163 382098]\n",
      " [238303 386013]]\n"
     ]
    }
   ],
   "source": [
    "print(confusion_matrix(y_train,y_pred_train_dt))"
   ]
  },
  {
   "cell_type": "code",
   "execution_count": 46,
   "id": "c5887a32",
   "metadata": {},
   "outputs": [
    {
     "name": "stdout",
     "output_type": "stream",
     "text": [
      "0.5031084703669131\n"
     ]
    }
   ],
   "source": [
    "from sklearn.metrics import roc_curve,roc_auc_score\n",
    "fpr,tpr,thresholds=roc_curve(y_os,dt_model.predict_proba(X_os)[:,1])\n",
    "\n",
    "auc=roc_auc_score(y_train,y_pred_train_dt)\n",
    "print(auc)"
   ]
  },
  {
   "cell_type": "code",
   "execution_count": 47,
   "id": "9c328b53",
   "metadata": {},
   "outputs": [
    {
     "data": {
      "image/png": "[encoded data removed]",
      "text/plain": [
       "<Figure size 432x288 with 1 Axes>"
      ]
     },
     "metadata": {
      "needs_background": "light"
     },
     "output_type": "display_data"
    }
   ],
   "source": [
    "import matplotlib.pyplot as plt\n",
    "plt.plot(fpr,tpr,color='blue',label='logit model(area=%0.2f)'%auc)\n",
    "plt.plot([0,1],[0,1],'k--')\n",
    "plt.xlabel(\"FALSE POSITIVE RATE\")\n",
    "plt.ylabel(\"TRUE POSITIVE RATE\")\n",
    "plt.show()"
   ]
  },
  {
   "cell_type": "code",
   "execution_count": 48,
   "id": "1fbaef9e",
   "metadata": {},
   "outputs": [],
   "source": [
    "#TEST DATA"
   ]
  },
  {
   "cell_type": "code",
   "execution_count": 49,
   "id": "8d6c7d12",
   "metadata": {},
   "outputs": [
    {
     "data": {
      "text/plain": [
       "array([1, 0, 0, ..., 1, 1, 1], dtype=int64)"
      ]
     },
     "execution_count": 49,
     "metadata": {},
     "output_type": "execute_result"
    }
   ],
   "source": [
    "y_pred_test_dt=dt_model.predict(X_test)\n",
    "y_pred_test_dt"
   ]
  },
  {
   "cell_type": "code",
   "execution_count": 50,
   "id": "cad4ae80",
   "metadata": {},
   "outputs": [
    {
     "name": "stdout",
     "output_type": "stream",
     "text": [
      "0.5039164490861618\n"
     ]
    }
   ],
   "source": [
    "from sklearn.metrics import accuracy_score,classification_report,confusion_matrix\n",
    "print(accuracy_score(y_test,y_pred_test_dt))"
   ]
  },
  {
   "cell_type": "code",
   "execution_count": 51,
   "id": "2c7b977d",
   "metadata": {},
   "outputs": [
    {
     "name": "stdout",
     "output_type": "stream",
     "text": [
      "              precision    recall  f1-score   support\n",
      "\n",
      "           0       0.51      0.39      0.44    156100\n",
      "           1       0.50      0.62      0.56    156045\n",
      "\n",
      "    accuracy                           0.50    312145\n",
      "   macro avg       0.50      0.50      0.50    312145\n",
      "weighted avg       0.50      0.50      0.50    312145\n",
      "\n"
     ]
    }
   ],
   "source": [
    "print(classification_report(y_test,y_pred_test_dt))"
   ]
  },
  {
   "cell_type": "code",
   "execution_count": 52,
   "id": "2cc706aa",
   "metadata": {},
   "outputs": [
    {
     "name": "stdout",
     "output_type": "stream",
     "text": [
      "[[60619 95481]\n",
      " [59369 96676]]\n"
     ]
    }
   ],
   "source": [
    "print(confusion_matrix(y_test,y_pred_test_dt))"
   ]
  },
  {
   "cell_type": "code",
   "execution_count": 53,
   "id": "bf2be252",
   "metadata": {},
   "outputs": [
    {
     "name": "stdout",
     "output_type": "stream",
     "text": [
      "0.5039368182509648\n"
     ]
    }
   ],
   "source": [
    "from sklearn.metrics import roc_curve,roc_auc_score\n",
    "fpr,tpr,thresholds=roc_curve(y_os,dt_model.predict_proba(X_os)[:,1])\n",
    "\n",
    "auc=roc_auc_score(y_test,y_pred_test_dt)\n",
    "print(auc)"
   ]
  },
  {
   "cell_type": "code",
   "execution_count": 54,
   "id": "4578fd47",
   "metadata": {},
   "outputs": [
    {
     "data": {
      "image/png": "[encoded data removed]",
      "text/plain": [
       "<Figure size 432x288 with 1 Axes>"
      ]
     },
     "metadata": {
      "needs_background": "light"
     },
     "output_type": "display_data"
    }
   ],
   "source": [
    "import matplotlib.pyplot as plt\n",
    "plt.plot(fpr,tpr,color='blue',label='logit model(area=%0.2f)'%auc)\n",
    "plt.plot([0,1],[0,1],'k--')\n",
    "plt.xlabel(\"FALSE POSITIVE RATE\")\n",
    "plt.ylabel(\"TRUE POSITIVE RATE\")\n",
    "plt.show()"
   ]
  },
  {
   "cell_type": "code",
   "execution_count": 55,
   "id": "a6e647b1",
   "metadata": {},
   "outputs": [
    {
     "data": {
      "image/png": "[encoded data removed]",
      "text/plain": [
       "<Figure size 1008x2160 with 1 Axes>"
      ]
     },
     "metadata": {
      "needs_background": "light"
     },
     "output_type": "display_data"
    }
   ],
   "source": [
    "#PLOT THE TREE\n",
    "from sklearn.tree import plot_tree\n",
    "import matplotlib.pyplot as plt\n",
    "plt.figure(figsize=(14,30))\n",
    "plot_tree(decision_tree=dt_model,filled=True,max_depth=7)\n",
    "plt.show()"
   ]
  },
  {
   "cell_type": "code",
   "execution_count": 56,
   "id": "11286da1",
   "metadata": {},
   "outputs": [],
   "source": [
    "# PERFORMING DECISION TREE WITH GINI  CRITERION"
   ]
  },
  {
   "cell_type": "code",
   "execution_count": 57,
   "id": "df3b259f",
   "metadata": {},
   "outputs": [
    {
     "data": {
      "text/plain": [
       "DecisionTreeClassifier()"
      ]
     },
     "execution_count": 57,
     "metadata": {},
     "output_type": "execute_result"
    }
   ],
   "source": [
    "from sklearn.tree import DecisionTreeClassifier\n",
    "dt_model=DecisionTreeClassifier(criterion='gini')\n",
    "dt_model.fit(X_train,y_train)"
   ]
  },
  {
   "cell_type": "code",
   "execution_count": 58,
   "id": "477bf6a2",
   "metadata": {},
   "outputs": [],
   "source": [
    "from sklearn.model_selection import train_test_split\n",
    "X_train,X_test,y_train,y_test=train_test_split(X_os,y_os,test_size=0.20,random_state=15,shuffle=y_os)"
   ]
  },
  {
   "cell_type": "code",
   "execution_count": 59,
   "id": "bb640ba9",
   "metadata": {},
   "outputs": [
    {
     "data": {
      "text/plain": [
       "array([1, 1, 1, ..., 1, 0, 1], dtype=int64)"
      ]
     },
     "execution_count": 59,
     "metadata": {},
     "output_type": "execute_result"
    }
   ],
   "source": [
    "## USING ENTROPY PERFORMIG MODEL TESTING AND MODEL TRAINING\n",
    "y_pred_train_dt=dt_model.predict(X_train)\n",
    "y_pred_train_dt"
   ]
  },
  {
   "cell_type": "code",
   "execution_count": 60,
   "id": "fcf1940d",
   "metadata": {},
   "outputs": [
    {
     "name": "stdout",
     "output_type": "stream",
     "text": [
      "0.990550042168004\n"
     ]
    }
   ],
   "source": [
    "from sklearn.metrics import accuracy_score,classification_report,confusion_matrix\n",
    "print(accuracy_score(y_train,y_pred_train_dt))"
   ]
  },
  {
   "cell_type": "code",
   "execution_count": 61,
   "id": "7cad1db2",
   "metadata": {},
   "outputs": [
    {
     "name": "stdout",
     "output_type": "stream",
     "text": [
      "              precision    recall  f1-score   support\n",
      "\n",
      "           0       0.99      1.00      0.99    624261\n",
      "           1       1.00      0.99      0.99    624316\n",
      "\n",
      "    accuracy                           0.99   1248577\n",
      "   macro avg       0.99      0.99      0.99   1248577\n",
      "weighted avg       0.99      0.99      0.99   1248577\n",
      "\n"
     ]
    }
   ],
   "source": [
    "print(classification_report(y_train,y_pred_train_dt))"
   ]
  },
  {
   "cell_type": "code",
   "execution_count": 62,
   "id": "1eeacf8e",
   "metadata": {},
   "outputs": [
    {
     "name": "stdout",
     "output_type": "stream",
     "text": [
      "[[621504   2757]\n",
      " [  9042 615274]]\n"
     ]
    }
   ],
   "source": [
    "print(confusion_matrix(y_train,y_pred_train_dt))"
   ]
  },
  {
   "cell_type": "code",
   "execution_count": 63,
   "id": "a6786c2f",
   "metadata": {},
   "outputs": [
    {
     "name": "stdout",
     "output_type": "stream",
     "text": [
      "0.99055026388623\n"
     ]
    }
   ],
   "source": [
    "from sklearn.metrics import roc_curve,roc_auc_score\n",
    "fpr,tpr,thresholds=roc_curve(y,dt_model.predict_proba(X_scaled)[:,1])\n",
    "\n",
    "auc=roc_auc_score(y_train,y_pred_train_dt)\n",
    "print(auc)"
   ]
  },
  {
   "cell_type": "code",
   "execution_count": 64,
   "id": "1ff9a224",
   "metadata": {},
   "outputs": [
    {
     "data": {
      "image/png": "[encoded data removed]",
      "text/plain": [
       "<Figure size 432x288 with 1 Axes>"
      ]
     },
     "metadata": {
      "needs_background": "light"
     },
     "output_type": "display_data"
    }
   ],
   "source": [
    "import matplotlib.pyplot as plt\n",
    "plt.plot(fpr,tpr,color='blue',label='logit model(area=%0.2f)'%auc)\n",
    "plt.plot([0,1],[0,1],'k--')\n",
    "plt.xlabel(\"FALSE POSITIVE RATE\")\n",
    "plt.ylabel(\"TRUE POSITIVE RATE\")\n",
    "plt.show()"
   ]
  },
  {
   "cell_type": "code",
   "execution_count": 65,
   "id": "5add82d6",
   "metadata": {},
   "outputs": [],
   "source": [
    "#TEST DATA"
   ]
  },
  {
   "cell_type": "code",
   "execution_count": 66,
   "id": "29efac28",
   "metadata": {},
   "outputs": [
    {
     "data": {
      "text/plain": [
       "array([0, 1, 0, ..., 1, 0, 0], dtype=int64)"
      ]
     },
     "execution_count": 66,
     "metadata": {},
     "output_type": "execute_result"
    }
   ],
   "source": [
    "y_pred_test_dt=dt_model.predict(X_test)\n",
    "y_pred_test_dt"
   ]
  },
  {
   "cell_type": "code",
   "execution_count": 67,
   "id": "68a93672",
   "metadata": {},
   "outputs": [
    {
     "name": "stdout",
     "output_type": "stream",
     "text": [
      "0.8140255330054943\n"
     ]
    }
   ],
   "source": [
    "from sklearn.metrics import accuracy_score,classification_report,confusion_matrix\n",
    "print(accuracy_score(y_test,y_pred_test_dt))"
   ]
  },
  {
   "cell_type": "code",
   "execution_count": 68,
   "id": "bdaa491e",
   "metadata": {},
   "outputs": [
    {
     "name": "stdout",
     "output_type": "stream",
     "text": [
      "              precision    recall  f1-score   support\n",
      "\n",
      "           0       0.76      0.93      0.83    156100\n",
      "           1       0.91      0.70      0.79    156045\n",
      "\n",
      "    accuracy                           0.81    312145\n",
      "   macro avg       0.83      0.81      0.81    312145\n",
      "weighted avg       0.83      0.81      0.81    312145\n",
      "\n"
     ]
    }
   ],
   "source": [
    "print(classification_report(y_test,y_pred_test_dt))"
   ]
  },
  {
   "cell_type": "code",
   "execution_count": 69,
   "id": "6f3ee0c9",
   "metadata": {},
   "outputs": [
    {
     "name": "stdout",
     "output_type": "stream",
     "text": [
      "[[144767  11333]\n",
      " [ 46718 109327]]\n"
     ]
    }
   ],
   "source": [
    "print(confusion_matrix(y_test,y_pred_test_dt))"
   ]
  },
  {
   "cell_type": "code",
   "execution_count": 70,
   "id": "705c6516",
   "metadata": {},
   "outputs": [
    {
     "name": "stdout",
     "output_type": "stream",
     "text": [
      "0.8140055530434406\n"
     ]
    }
   ],
   "source": [
    "from sklearn.metrics import roc_curve,roc_auc_score\n",
    "fpr,tpr,thresholds=roc_curve(y_os,dt_model.predict_proba(X_os)[:,1])\n",
    "\n",
    "auc=roc_auc_score(y_test,y_pred_test_dt)\n",
    "print(auc)"
   ]
  },
  {
   "cell_type": "code",
   "execution_count": 71,
   "id": "0fde958e",
   "metadata": {},
   "outputs": [
    {
     "data": {
      "image/png": "[encoded data removed]",
      "text/plain": [
       "<Figure size 432x288 with 1 Axes>"
      ]
     },
     "metadata": {
      "needs_background": "light"
     },
     "output_type": "display_data"
    }
   ],
   "source": [
    "import matplotlib.pyplot as plt\n",
    "plt.plot(fpr,tpr,color='blue',label='logit model(area=%0.2f)'%auc)\n",
    "plt.plot([0,1],[0,1],'k--')\n",
    "plt.xlabel(\"FALSE POSITIVE RATE\")\n",
    "plt.ylabel(\"TRUE POSITIVE RATE\")\n",
    "plt.show()"
   ]
  },
  {
   "cell_type": "code",
   "execution_count": 72,
   "id": "90b6fada",
   "metadata": {},
   "outputs": [
    {
     "data": {
      "image/png": "[encoded data removed]",
      "text/plain": [
       "<Figure size 1008x2160 with 1 Axes>"
      ]
     },
     "metadata": {
      "needs_background": "light"
     },
     "output_type": "display_data"
    }
   ],
   "source": [
    "#PLOT THE TREE\n",
    "from sklearn.tree import plot_tree\n",
    "import matplotlib.pyplot as plt\n",
    "plt.figure(figsize=(14,30))\n",
    "plot_tree(decision_tree=dt_model,filled=True,max_depth=7)\n",
    "plt.show()"
   ]
  },
  {
   "cell_type": "code",
   "execution_count": 73,
   "id": "8f61aea3",
   "metadata": {},
   "outputs": [],
   "source": [
    "# PERFORMING DECISION TREE USING ENTROPY"
   ]
  },
  {
   "cell_type": "code",
   "execution_count": 74,
   "id": "b8c4da84",
   "metadata": {},
   "outputs": [
    {
     "data": {
      "text/plain": [
       "DecisionTreeClassifier(criterion='entropy')"
      ]
     },
     "execution_count": 74,
     "metadata": {},
     "output_type": "execute_result"
    }
   ],
   "source": [
    "from sklearn.tree import DecisionTreeClassifier\n",
    "dt_model=DecisionTreeClassifier(criterion='entropy')\n",
    "dt_model.fit(X_train,y_train)"
   ]
  },
  {
   "cell_type": "code",
   "execution_count": 75,
   "id": "8c522c44",
   "metadata": {},
   "outputs": [],
   "source": [
    "from sklearn.model_selection import train_test_split\n",
    "X_train,X_test,y_train,y_test=train_test_split(X_os,y_os,test_size=0.20,random_state=15,shuffle=y_os)"
   ]
  },
  {
   "cell_type": "code",
   "execution_count": 76,
   "id": "06bca7c0",
   "metadata": {},
   "outputs": [
    {
     "data": {
      "text/plain": [
       "array([1, 1, 1, ..., 1, 0, 1], dtype=int64)"
      ]
     },
     "execution_count": 76,
     "metadata": {},
     "output_type": "execute_result"
    }
   ],
   "source": [
    "## USING ENTROPY PERFORMIG MODEL TESTING AND MODEL TRAINING\n",
    "y_pred_train_dt=dt_model.predict(X_train)\n",
    "y_pred_train_dt"
   ]
  },
  {
   "cell_type": "code",
   "execution_count": 77,
   "id": "1170f853",
   "metadata": {},
   "outputs": [
    {
     "name": "stdout",
     "output_type": "stream",
     "text": [
      "0.990550042168004\n"
     ]
    }
   ],
   "source": [
    "from sklearn.metrics import accuracy_score,classification_report,confusion_matrix\n",
    "print(accuracy_score(y_train,y_pred_train_dt))"
   ]
  },
  {
   "cell_type": "code",
   "execution_count": 78,
   "id": "4900a3ca",
   "metadata": {},
   "outputs": [
    {
     "name": "stdout",
     "output_type": "stream",
     "text": [
      "              precision    recall  f1-score   support\n",
      "\n",
      "           0       0.99      1.00      0.99    624261\n",
      "           1       1.00      0.99      0.99    624316\n",
      "\n",
      "    accuracy                           0.99   1248577\n",
      "   macro avg       0.99      0.99      0.99   1248577\n",
      "weighted avg       0.99      0.99      0.99   1248577\n",
      "\n"
     ]
    }
   ],
   "source": [
    "print(classification_report(y_train,y_pred_train_dt))"
   ]
  },
  {
   "cell_type": "code",
   "execution_count": 79,
   "id": "795e2740",
   "metadata": {},
   "outputs": [
    {
     "name": "stdout",
     "output_type": "stream",
     "text": [
      "[[621504   2757]\n",
      " [  9042 615274]]\n"
     ]
    }
   ],
   "source": [
    "print(confusion_matrix(y_train,y_pred_train_dt))"
   ]
  },
  {
   "cell_type": "code",
   "execution_count": 80,
   "id": "fc5f924f",
   "metadata": {},
   "outputs": [
    {
     "name": "stdout",
     "output_type": "stream",
     "text": [
      "0.99055026388623\n"
     ]
    }
   ],
   "source": [
    "from sklearn.metrics import roc_curve,roc_auc_score\n",
    "fpr,tpr,thresholds=roc_curve(y,dt_model.predict_proba(X_scaled)[:,1])\n",
    "\n",
    "auc=roc_auc_score(y_train,y_pred_train_dt)\n",
    "print(auc)"
   ]
  },
  {
   "cell_type": "code",
   "execution_count": 81,
   "id": "3899f7cb",
   "metadata": {},
   "outputs": [
    {
     "data": {
      "image/png": "[encoded data removed]",
      "text/plain": [
       "<Figure size 432x288 with 1 Axes>"
      ]
     },
     "metadata": {
      "needs_background": "light"
     },
     "output_type": "display_data"
    }
   ],
   "source": [
    "import matplotlib.pyplot as plt\n",
    "plt.plot(fpr,tpr,color='blue',label='logit model(area=%0.2f)'%auc)\n",
    "plt.plot([0,1],[0,1],'k--')\n",
    "plt.xlabel(\"FALSE POSITIVE RATE\")\n",
    "plt.ylabel(\"TRUE POSITIVE RATE\")\n",
    "plt.show()"
   ]
  },
  {
   "cell_type": "code",
   "execution_count": 82,
   "id": "e9bcdf2f",
   "metadata": {},
   "outputs": [],
   "source": [
    "#TEST DATA"
   ]
  },
  {
   "cell_type": "code",
   "execution_count": 83,
   "id": "3f878ca2",
   "metadata": {},
   "outputs": [
    {
     "data": {
      "text/plain": [
       "array([0, 1, 0, ..., 1, 0, 1], dtype=int64)"
      ]
     },
     "execution_count": 83,
     "metadata": {},
     "output_type": "execute_result"
    }
   ],
   "source": [
    "y_pred_test_dt=dt_model.predict(X_test)\n",
    "y_pred_test_dt"
   ]
  },
  {
   "cell_type": "code",
   "execution_count": 84,
   "id": "c8f2c004",
   "metadata": {},
   "outputs": [
    {
     "name": "stdout",
     "output_type": "stream",
     "text": [
      "0.8141664931362027\n"
     ]
    }
   ],
   "source": [
    "from sklearn.metrics import accuracy_score,classification_report,confusion_matrix\n",
    "print(accuracy_score(y_test,y_pred_test_dt))"
   ]
  },
  {
   "cell_type": "code",
   "execution_count": 85,
   "id": "7f88eaa8",
   "metadata": {},
   "outputs": [
    {
     "name": "stdout",
     "output_type": "stream",
     "text": [
      "              precision    recall  f1-score   support\n",
      "\n",
      "           0       0.76      0.93      0.83    156100\n",
      "           1       0.91      0.70      0.79    156045\n",
      "\n",
      "    accuracy                           0.81    312145\n",
      "   macro avg       0.83      0.81      0.81    312145\n",
      "weighted avg       0.83      0.81      0.81    312145\n",
      "\n"
     ]
    }
   ],
   "source": [
    "print(classification_report(y_test,y_pred_test_dt))"
   ]
  },
  {
   "cell_type": "code",
   "execution_count": 86,
   "id": "7d132d3c",
   "metadata": {},
   "outputs": [
    {
     "name": "stdout",
     "output_type": "stream",
     "text": [
      "[[144754  11346]\n",
      " [ 46661 109384]]\n"
     ]
    }
   ],
   "source": [
    "print(confusion_matrix(y_test,y_pred_test_dt))"
   ]
  },
  {
   "cell_type": "code",
   "execution_count": 87,
   "id": "f6fa5901",
   "metadata": {},
   "outputs": [
    {
     "name": "stdout",
     "output_type": "stream",
     "text": [
      "0.8141465526922507\n"
     ]
    }
   ],
   "source": [
    "from sklearn.metrics import roc_curve,roc_auc_score\n",
    "fpr,tpr,thresholds=roc_curve(y_test,dt_model.predict_proba(X_test)[:,1])\n",
    "\n",
    "auc=roc_auc_score(y_test,y_pred_test_dt)\n",
    "print(auc)"
   ]
  },
  {
   "cell_type": "code",
   "execution_count": 88,
   "id": "9a42edda",
   "metadata": {},
   "outputs": [
    {
     "data": {
      "image/png": "[encoded data removed]",
      "text/plain": [
       "<Figure size 432x288 with 1 Axes>"
      ]
     },
     "metadata": {
      "needs_background": "light"
     },
     "output_type": "display_data"
    }
   ],
   "source": [
    "import matplotlib.pyplot as plt\n",
    "plt.plot(fpr,tpr,color='blue',label='logit model(area=%0.2f)'%auc)\n",
    "plt.plot([0,1],[0,1],'k--')\n",
    "plt.xlabel(\"FALSE POSITIVE RATE\")\n",
    "plt.ylabel(\"TRUE POSITIVE RATE\")\n",
    "plt.show()"
   ]
  },
  {
   "cell_type": "code",
   "execution_count": 89,
   "id": "03574637",
   "metadata": {},
   "outputs": [
    {
     "data": {
      "image/png": "[encoded data removed]",
      "text/plain": [
       "<Figure size 1008x2160 with 1 Axes>"
      ]
     },
     "metadata": {
      "needs_background": "light"
     },
     "output_type": "display_data"
    }
   ],
   "source": [
    "#PLOT THE TREE\n",
    "from sklearn.tree import plot_tree\n",
    "import matplotlib.pyplot as plt\n",
    "plt.figure(figsize=(14,30))\n",
    "plot_tree(decision_tree=dt_model,filled=True,max_depth=7)\n",
    "plt.show()"
   ]
  },
  {
   "cell_type": "markdown",
   "id": "91eb2c08",
   "metadata": {},
   "source": [
    "# >>>> model 03 :RANDOM FOREST"
   ]
  },
  {
   "cell_type": "code",
   "execution_count": 90,
   "id": "127dec89",
   "metadata": {},
   "outputs": [],
   "source": [
    "# USING RANDOMFOREST CLASSIFIER"
   ]
  },
  {
   "cell_type": "code",
   "execution_count": 91,
   "id": "280d5a4b",
   "metadata": {},
   "outputs": [],
   "source": [
    "from sklearn.ensemble import RandomForestClassifier"
   ]
  },
  {
   "cell_type": "code",
   "execution_count": 92,
   "id": "13674690",
   "metadata": {},
   "outputs": [],
   "source": [
    "from sklearn.model_selection import train_test_split\n",
    "X_train,X_test,y_train,y_test=train_test_split(X_os,y_os,test_size=0.20,random_state=15,shuffle=y_os)"
   ]
  },
  {
   "cell_type": "code",
   "execution_count": 93,
   "id": "b26737aa",
   "metadata": {},
   "outputs": [
    {
     "name": "stderr",
     "output_type": "stream",
     "text": [
      "C:\\Users\\PRIYANKA\\AppData\\Local\\Temp/ipykernel_29684/3136177571.py:2: DataConversionWarning: A column-vector y was passed when a 1d array was expected. Please change the shape of y to (n_samples,), for example using ravel().\n",
      "  rf_classifier.fit(X_train,y_train)\n"
     ]
    },
    {
     "data": {
      "text/plain": [
       "RandomForestClassifier(n_estimators=60, random_state=15)"
      ]
     },
     "execution_count": 93,
     "metadata": {},
     "output_type": "execute_result"
    }
   ],
   "source": [
    "rf_classifier=RandomForestClassifier(n_estimators=60,random_state=15)\n",
    "rf_classifier.fit(X_train,y_train)"
   ]
  },
  {
   "cell_type": "code",
   "execution_count": 94,
   "id": "26bbfff5",
   "metadata": {},
   "outputs": [],
   "source": [
    "#MODEL TESTING AND MODEL EVALUATION"
   ]
  },
  {
   "cell_type": "code",
   "execution_count": 95,
   "id": "c8631270",
   "metadata": {},
   "outputs": [],
   "source": [
    "y_pred_train_rf=rf_classifier.predict(X_train)"
   ]
  },
  {
   "cell_type": "code",
   "execution_count": 96,
   "id": "30d4cd66",
   "metadata": {},
   "outputs": [
    {
     "name": "stdout",
     "output_type": "stream",
     "text": [
      "0.9905148020506545\n"
     ]
    }
   ],
   "source": [
    "from sklearn.metrics import accuracy_score,classification_report,confusion_matrix\n",
    "print(accuracy_score(y_train,y_pred_train_rf))"
   ]
  },
  {
   "cell_type": "code",
   "execution_count": 97,
   "id": "05bb2f5d",
   "metadata": {},
   "outputs": [
    {
     "name": "stdout",
     "output_type": "stream",
     "text": [
      "              precision    recall  f1-score   support\n",
      "\n",
      "           0       0.99      0.99      0.99    624261\n",
      "           1       0.99      0.99      0.99    624316\n",
      "\n",
      "    accuracy                           0.99   1248577\n",
      "   macro avg       0.99      0.99      0.99   1248577\n",
      "weighted avg       0.99      0.99      0.99   1248577\n",
      "\n"
     ]
    }
   ],
   "source": [
    "print(classification_report(y_train,y_pred_train_rf))"
   ]
  },
  {
   "cell_type": "code",
   "execution_count": 98,
   "id": "1b1778b2",
   "metadata": {},
   "outputs": [
    {
     "name": "stdout",
     "output_type": "stream",
     "text": [
      "[[620551   3710]\n",
      " [  8133 616183]]\n"
     ]
    }
   ],
   "source": [
    "print(confusion_matrix(y_train,y_pred_train_rf))"
   ]
  },
  {
   "cell_type": "code",
   "execution_count": 99,
   "id": "17f4d86d",
   "metadata": {},
   "outputs": [
    {
     "name": "stdout",
     "output_type": "stream",
     "text": [
      "0.9905149580769299\n"
     ]
    }
   ],
   "source": [
    "from sklearn.metrics import roc_curve,roc_auc_score\n",
    "fpr,tpr,thresholds=roc_curve(y_os,rf_classifier.predict_proba(X_os)[:,1])\n",
    "\n",
    "auc=roc_auc_score(y_train,y_pred_train_rf)\n",
    "print(auc)"
   ]
  },
  {
   "cell_type": "code",
   "execution_count": 100,
   "id": "6bafc5ca",
   "metadata": {},
   "outputs": [
    {
     "data": {
      "image/png": "[encoded data removed]",
      "text/plain": [
       "<Figure size 432x288 with 1 Axes>"
      ]
     },
     "metadata": {
      "needs_background": "light"
     },
     "output_type": "display_data"
    }
   ],
   "source": [
    "import matplotlib.pyplot as plt\n",
    "plt.plot(fpr,tpr,color='blue',label='logit model(area=%0.2f)'%auc)\n",
    "plt.plot([0,1],[0,1],'k--')\n",
    "plt.xlabel(\"FALSE POSITIVE RATE\")\n",
    "plt.ylabel(\"TRUE POSITIVE RATE\")\n",
    "plt.show()"
   ]
  },
  {
   "cell_type": "code",
   "execution_count": 101,
   "id": "3c9157a0",
   "metadata": {},
   "outputs": [],
   "source": [
    "#TEST DATA"
   ]
  },
  {
   "cell_type": "code",
   "execution_count": 102,
   "id": "7297d2ff",
   "metadata": {},
   "outputs": [],
   "source": [
    "y_pred_test_rf=rf_classifier.predict(X_test)"
   ]
  },
  {
   "cell_type": "code",
   "execution_count": 103,
   "id": "a7d4fc69",
   "metadata": {},
   "outputs": [
    {
     "data": {
      "text/plain": [
       "0.8742699706867001"
      ]
     },
     "execution_count": 103,
     "metadata": {},
     "output_type": "execute_result"
    }
   ],
   "source": [
    "accuracy_score(y_test,y_pred_test_rf)"
   ]
  },
  {
   "cell_type": "code",
   "execution_count": 104,
   "id": "f81dfc20",
   "metadata": {},
   "outputs": [
    {
     "name": "stdout",
     "output_type": "stream",
     "text": [
      "0.8742699706867001\n"
     ]
    }
   ],
   "source": [
    "from sklearn.metrics import accuracy_score,classification_report,confusion_matrix\n",
    "print(accuracy_score(y_test,y_pred_test_rf))"
   ]
  },
  {
   "cell_type": "code",
   "execution_count": 105,
   "id": "84fc1f65",
   "metadata": {},
   "outputs": [
    {
     "name": "stdout",
     "output_type": "stream",
     "text": [
      "              precision    recall  f1-score   support\n",
      "\n",
      "           0       0.85      0.91      0.88    156100\n",
      "           1       0.90      0.84      0.87    156045\n",
      "\n",
      "    accuracy                           0.87    312145\n",
      "   macro avg       0.88      0.87      0.87    312145\n",
      "weighted avg       0.88      0.87      0.87    312145\n",
      "\n"
     ]
    }
   ],
   "source": [
    "print(classification_report(y_test,y_pred_test_rf))"
   ]
  },
  {
   "cell_type": "code",
   "execution_count": 106,
   "id": "f54193ed",
   "metadata": {},
   "outputs": [
    {
     "name": "stdout",
     "output_type": "stream",
     "text": [
      "[[142298  13802]\n",
      " [ 25444 130601]]\n"
     ]
    }
   ],
   "source": [
    "print(confusion_matrix(y_test,y_pred_test_rf))"
   ]
  },
  {
   "cell_type": "code",
   "execution_count": 107,
   "id": "9497d588",
   "metadata": {},
   "outputs": [
    {
     "name": "stdout",
     "output_type": "stream",
     "text": [
      "0.8742633950862044\n"
     ]
    }
   ],
   "source": [
    "from sklearn.metrics import roc_curve,roc_auc_score\n",
    "fpr,tpr,thresholds=roc_curve(y_os,rf_classifier.predict_proba(X_os)[:,1])\n",
    "\n",
    "auc=roc_auc_score(y_test,y_pred_test_rf)\n",
    "print(auc)"
   ]
  },
  {
   "cell_type": "code",
   "execution_count": 108,
   "id": "78da5499",
   "metadata": {},
   "outputs": [
    {
     "data": {
      "image/png": "[encoded data removed]",
      "text/plain": [
       "<Figure size 432x288 with 1 Axes>"
      ]
     },
     "metadata": {
      "needs_background": "light"
     },
     "output_type": "display_data"
    }
   ],
   "source": [
    "import matplotlib.pyplot as plt\n",
    "plt.plot(fpr,tpr,color='blue',label='logit model(area=%0.2f)'%auc)\n",
    "plt.plot([0,1],[0,1],'k--')\n",
    "plt.xlabel(\"FALSE POSITIVE RATE\")\n",
    "plt.ylabel(\"TRUE POSITIVE RATE\")\n",
    "plt.show()"
   ]
  },
  {
   "cell_type": "markdown",
   "id": "efec97a2",
   "metadata": {},
   "source": [
    "# >>>> model 04 :GRADIENT BOOSTING"
   ]
  },
  {
   "cell_type": "code",
   "execution_count": 109,
   "id": "c087b292",
   "metadata": {},
   "outputs": [],
   "source": [
    "# USING GRADIENT BOOSTING CLASSIFIER"
   ]
  },
  {
   "cell_type": "code",
   "execution_count": 110,
   "id": "d8faf666",
   "metadata": {},
   "outputs": [],
   "source": [
    "from sklearn.ensemble import GradientBoostingClassifier"
   ]
  },
  {
   "cell_type": "code",
   "execution_count": 111,
   "id": "9b07e470",
   "metadata": {},
   "outputs": [
    {
     "name": "stderr",
     "output_type": "stream",
     "text": [
      "C:\\Users\\PRIYANKA\\Anaconda3\\lib\\site-packages\\sklearn\\ensemble\\_gb.py:494: DataConversionWarning: A column-vector y was passed when a 1d array was expected. Please change the shape of y to (n_samples, ), for example using ravel().\n",
      "  y = column_or_1d(y, warn=True)\n"
     ]
    },
    {
     "data": {
      "text/plain": [
       "GradientBoostingClassifier(n_estimators=60, random_state=15)"
      ]
     },
     "execution_count": 111,
     "metadata": {},
     "output_type": "execute_result"
    }
   ],
   "source": [
    "gb_classifier=GradientBoostingClassifier(n_estimators=60,random_state=15)\n",
    "gb_classifier.fit(X_train,y_train)"
   ]
  },
  {
   "cell_type": "code",
   "execution_count": 112,
   "id": "96c42c01",
   "metadata": {},
   "outputs": [],
   "source": [
    "#MODEL TESTING AND MODEL EVALUATION"
   ]
  },
  {
   "cell_type": "code",
   "execution_count": 113,
   "id": "b36e9811",
   "metadata": {},
   "outputs": [],
   "source": [
    "y_pred_train_gb=gb_classifier.predict(X_train)"
   ]
  },
  {
   "cell_type": "code",
   "execution_count": 114,
   "id": "7d7445a8",
   "metadata": {},
   "outputs": [
    {
     "name": "stdout",
     "output_type": "stream",
     "text": [
      "0.5097923476085175\n"
     ]
    }
   ],
   "source": [
    "from sklearn.metrics import accuracy_score,classification_report,confusion_matrix\n",
    "print(accuracy_score(y_train,y_pred_train_gb))"
   ]
  },
  {
   "cell_type": "code",
   "execution_count": 115,
   "id": "d7d01b00",
   "metadata": {},
   "outputs": [
    {
     "name": "stdout",
     "output_type": "stream",
     "text": [
      "              precision    recall  f1-score   support\n",
      "\n",
      "           0       0.51      0.39      0.44    624261\n",
      "           1       0.51      0.63      0.56    624316\n",
      "\n",
      "    accuracy                           0.51   1248577\n",
      "   macro avg       0.51      0.51      0.50   1248577\n",
      "weighted avg       0.51      0.51      0.50   1248577\n",
      "\n"
     ]
    }
   ],
   "source": [
    "print(classification_report(y_train,y_pred_train_gb))"
   ]
  },
  {
   "cell_type": "code",
   "execution_count": 116,
   "id": "080ea075",
   "metadata": {},
   "outputs": [
    {
     "name": "stdout",
     "output_type": "stream",
     "text": [
      "[[245191 379070]\n",
      " [232992 391324]]\n"
     ]
    }
   ],
   "source": [
    "print(confusion_matrix(y_train,y_pred_train_gb))"
   ]
  },
  {
   "cell_type": "code",
   "execution_count": 117,
   "id": "e48f98ec",
   "metadata": {},
   "outputs": [
    {
     "name": "stdout",
     "output_type": "stream",
     "text": [
      "0.5097871929844978\n"
     ]
    }
   ],
   "source": [
    "from sklearn.metrics import roc_curve,roc_auc_score\n",
    "fpr,tpr,thresholds=roc_curve(y_os,gb_classifier.predict_proba(X_os)[:,1])\n",
    "\n",
    "auc=roc_auc_score(y_train,y_pred_train_gb)\n",
    "print(auc)"
   ]
  },
  {
   "cell_type": "code",
   "execution_count": 118,
   "id": "6b31c091",
   "metadata": {},
   "outputs": [
    {
     "data": {
      "image/png": "[encoded data removed]",
      "text/plain": [
       "<Figure size 432x288 with 1 Axes>"
      ]
     },
     "metadata": {
      "needs_background": "light"
     },
     "output_type": "display_data"
    }
   ],
   "source": [
    "import matplotlib.pyplot as plt\n",
    "plt.plot(fpr,tpr,color='blue',label='logit model(area=%0.2f)'%auc)\n",
    "plt.plot([0,1],[0,1],'k--')\n",
    "plt.xlabel(\"FALSE POSITIVE RATE\")\n",
    "plt.ylabel(\"TRUE POSITIVE RATE\")\n",
    "plt.show()"
   ]
  },
  {
   "cell_type": "code",
   "execution_count": 119,
   "id": "7f97a7ca",
   "metadata": {},
   "outputs": [],
   "source": [
    "#TEST DATA"
   ]
  },
  {
   "cell_type": "code",
   "execution_count": 120,
   "id": "7a6408cd",
   "metadata": {},
   "outputs": [],
   "source": [
    "y_pred_test_gb=gb_classifier.predict(X_test)"
   ]
  },
  {
   "cell_type": "code",
   "execution_count": 121,
   "id": "5d9cefbe",
   "metadata": {},
   "outputs": [
    {
     "data": {
      "text/plain": [
       "0.5055310833106409"
      ]
     },
     "execution_count": 121,
     "metadata": {},
     "output_type": "execute_result"
    }
   ],
   "source": [
    "accuracy_score(y_test,y_pred_test_gb)"
   ]
  },
  {
   "cell_type": "code",
   "execution_count": 122,
   "id": "14fbeb4c",
   "metadata": {},
   "outputs": [
    {
     "name": "stdout",
     "output_type": "stream",
     "text": [
      "0.5055310833106409\n"
     ]
    }
   ],
   "source": [
    "from sklearn.metrics import accuracy_score,classification_report,confusion_matrix\n",
    "print(accuracy_score(y_test,y_pred_test_gb))"
   ]
  },
  {
   "cell_type": "code",
   "execution_count": 123,
   "id": "e88f39dc",
   "metadata": {},
   "outputs": [
    {
     "name": "stdout",
     "output_type": "stream",
     "text": [
      "              precision    recall  f1-score   support\n",
      "\n",
      "           0       0.51      0.39      0.44    156100\n",
      "           1       0.50      0.62      0.56    156045\n",
      "\n",
      "    accuracy                           0.51    312145\n",
      "   macro avg       0.51      0.51      0.50    312145\n",
      "weighted avg       0.51      0.51      0.50    312145\n",
      "\n"
     ]
    }
   ],
   "source": [
    "print(classification_report(y_test,y_pred_test_gb))"
   ]
  },
  {
   "cell_type": "code",
   "execution_count": 124,
   "id": "fb50da42",
   "metadata": {},
   "outputs": [
    {
     "name": "stdout",
     "output_type": "stream",
     "text": [
      "[[60491 95609]\n",
      " [58737 97308]]\n"
     ]
    }
   ],
   "source": [
    "print(confusion_matrix(y_test,y_pred_test_gb))"
   ]
  },
  {
   "cell_type": "code",
   "execution_count": 125,
   "id": "4052114a",
   "metadata": {},
   "outputs": [
    {
     "name": "stdout",
     "output_type": "stream",
     "text": [
      "0.5055518815317344\n"
     ]
    }
   ],
   "source": [
    "from sklearn.metrics import roc_curve,roc_auc_score\n",
    "fpr,tpr,thresholds=roc_curve(y_test,gb_classifier.predict_proba(X_test)[:,1])\n",
    "\n",
    "auc=roc_auc_score(y_test,y_pred_test_gb)\n",
    "print(auc)"
   ]
  },
  {
   "cell_type": "code",
   "execution_count": 126,
   "id": "2028da2d",
   "metadata": {},
   "outputs": [
    {
     "data": {
      "image/png": "[encoded data removed]",
      "text/plain": [
       "<Figure size 432x288 with 1 Axes>"
      ]
     },
     "metadata": {
      "needs_background": "light"
     },
     "output_type": "display_data"
    }
   ],
   "source": [
    "import matplotlib.pyplot as plt\n",
    "plt.plot(fpr,tpr,color='blue',label='logit model(area=%0.2f)'%auc)\n",
    "plt.plot([0,1],[0,1],'k--')\n",
    "plt.xlabel(\"FALSE POSITIVE RATE\")\n",
    "plt.ylabel(\"TRUE POSITIVE RATE\")\n",
    "plt.show()"
   ]
  },
  {
   "cell_type": "markdown",
   "id": "a2211b52",
   "metadata": {},
   "source": [
    "### >>> MODEL 05:ADABOOST / ADAPTIVE BOOSTING"
   ]
  },
  {
   "cell_type": "code",
   "execution_count": 127,
   "id": "24bff40b",
   "metadata": {},
   "outputs": [],
   "source": [
    "from sklearn.model_selection import train_test_split\n",
    "X_train,X_test,y_train,y_test=train_test_split(X_os,y_os,test_size=0.20,random_state=15,shuffle=y_os)"
   ]
  },
  {
   "cell_type": "code",
   "execution_count": 128,
   "id": "1549d2c8",
   "metadata": {},
   "outputs": [
    {
     "name": "stderr",
     "output_type": "stream",
     "text": [
      "C:\\Users\\PRIYANKA\\Anaconda3\\lib\\site-packages\\sklearn\\utils\\validation.py:993: DataConversionWarning: A column-vector y was passed when a 1d array was expected. Please change the shape of y to (n_samples, ), for example using ravel().\n",
      "  y = column_or_1d(y, warn=True)\n"
     ]
    },
    {
     "data": {
      "text/plain": [
       "AdaBoostClassifier(learning_rate=1, n_estimators=60, random_state=15)"
      ]
     },
     "execution_count": 128,
     "metadata": {},
     "output_type": "execute_result"
    }
   ],
   "source": [
    "from sklearn.ensemble import AdaBoostClassifier\n",
    "ab_classifier=AdaBoostClassifier(n_estimators=60,learning_rate=1,random_state=15)\n",
    "ab_classifier.fit(X_train,y_train)"
   ]
  },
  {
   "cell_type": "code",
   "execution_count": 129,
   "id": "aaaa6ab1",
   "metadata": {},
   "outputs": [
    {
     "data": {
      "text/plain": [
       "array([1, 1, 0, ..., 0, 0, 1], dtype=int64)"
      ]
     },
     "execution_count": 129,
     "metadata": {},
     "output_type": "execute_result"
    }
   ],
   "source": [
    "y_pred_ad=ab_classifier.predict(X_train)\n",
    "y_pred_ad"
   ]
  },
  {
   "cell_type": "code",
   "execution_count": 130,
   "id": "4db66e9e",
   "metadata": {},
   "outputs": [
    {
     "name": "stdout",
     "output_type": "stream",
     "text": [
      "0.5071341214838972\n"
     ]
    }
   ],
   "source": [
    "from sklearn.metrics import accuracy_score,classification_report,confusion_matrix\n",
    "print(accuracy_score(y_train,y_pred_ad))"
   ]
  },
  {
   "cell_type": "code",
   "execution_count": 131,
   "id": "9fc5cb03",
   "metadata": {},
   "outputs": [
    {
     "name": "stdout",
     "output_type": "stream",
     "text": [
      "              precision    recall  f1-score   support\n",
      "\n",
      "           0       0.51      0.46      0.48    624261\n",
      "           1       0.51      0.55      0.53    624316\n",
      "\n",
      "    accuracy                           0.51   1248577\n",
      "   macro avg       0.51      0.51      0.51   1248577\n",
      "weighted avg       0.51      0.51      0.51   1248577\n",
      "\n"
     ]
    }
   ],
   "source": [
    "print(classification_report(y_train,y_pred_ad))"
   ]
  },
  {
   "cell_type": "code",
   "execution_count": 132,
   "id": "77f79e88",
   "metadata": {},
   "outputs": [
    {
     "name": "stdout",
     "output_type": "stream",
     "text": [
      "[[288437 335824]\n",
      " [279557 344759]]\n"
     ]
    }
   ],
   "source": [
    "print(confusion_matrix(y_train,y_pred_ad))"
   ]
  },
  {
   "cell_type": "code",
   "execution_count": 133,
   "id": "cad9c9da",
   "metadata": {},
   "outputs": [
    {
     "name": "stdout",
     "output_type": "stream",
     "text": [
      "0.5071321354119904\n"
     ]
    }
   ],
   "source": [
    "from sklearn.metrics import roc_curve,roc_auc_score\n",
    "fpr,tpr,thresholds=roc_curve(y_os,gb_classifier.predict_proba(X_os)[:,1])\n",
    "\n",
    "auc=roc_auc_score(y_train,y_pred_ad)\n",
    "print(auc)"
   ]
  },
  {
   "cell_type": "code",
   "execution_count": 134,
   "id": "3789cf5f",
   "metadata": {},
   "outputs": [
    {
     "data": {
      "image/png": "[encoded data removed]",
      "text/plain": [
       "<Figure size 432x288 with 1 Axes>"
      ]
     },
     "metadata": {
      "needs_background": "light"
     },
     "output_type": "display_data"
    }
   ],
   "source": [
    "import matplotlib.pyplot as plt\n",
    "plt.plot(fpr,tpr,color='blue',label='logit model(area=%0.2f)'%auc)\n",
    "plt.plot([0,1],[0,1],'k--')\n",
    "plt.xlabel(\"FALSE POSITIVE RATE\")\n",
    "plt.ylabel(\"TRUE POSITIVE RATE\")\n",
    "plt.show()"
   ]
  },
  {
   "cell_type": "code",
   "execution_count": 135,
   "id": "15e4f02e",
   "metadata": {},
   "outputs": [],
   "source": [
    "#TEST DATA"
   ]
  },
  {
   "cell_type": "code",
   "execution_count": 136,
   "id": "9f473821",
   "metadata": {},
   "outputs": [],
   "source": [
    "y_pred_test_ad=gb_classifier.predict(X_test)"
   ]
  },
  {
   "cell_type": "code",
   "execution_count": 137,
   "id": "040d0642",
   "metadata": {},
   "outputs": [
    {
     "data": {
      "text/plain": [
       "0.5055310833106409"
      ]
     },
     "execution_count": 137,
     "metadata": {},
     "output_type": "execute_result"
    }
   ],
   "source": [
    "accuracy_score(y_test,y_pred_test_ad)"
   ]
  },
  {
   "cell_type": "code",
   "execution_count": 138,
   "id": "6738a337",
   "metadata": {},
   "outputs": [
    {
     "name": "stdout",
     "output_type": "stream",
     "text": [
      "0.5055310833106409\n"
     ]
    }
   ],
   "source": [
    "from sklearn.metrics import accuracy_score,classification_report,confusion_matrix\n",
    "print(accuracy_score(y_test,y_pred_test_ad))"
   ]
  },
  {
   "cell_type": "code",
   "execution_count": 139,
   "id": "6861349e",
   "metadata": {},
   "outputs": [
    {
     "name": "stdout",
     "output_type": "stream",
     "text": [
      "              precision    recall  f1-score   support\n",
      "\n",
      "           0       0.51      0.39      0.44    156100\n",
      "           1       0.50      0.62      0.56    156045\n",
      "\n",
      "    accuracy                           0.51    312145\n",
      "   macro avg       0.51      0.51      0.50    312145\n",
      "weighted avg       0.51      0.51      0.50    312145\n",
      "\n"
     ]
    }
   ],
   "source": [
    "print(classification_report(y_test,y_pred_test_ad))"
   ]
  },
  {
   "cell_type": "code",
   "execution_count": 140,
   "id": "2db5a1e8",
   "metadata": {},
   "outputs": [
    {
     "name": "stdout",
     "output_type": "stream",
     "text": [
      "[[60491 95609]\n",
      " [58737 97308]]\n"
     ]
    }
   ],
   "source": [
    "print(confusion_matrix(y_test,y_pred_test_ad))"
   ]
  },
  {
   "cell_type": "code",
   "execution_count": 141,
   "id": "e9c9aa8f",
   "metadata": {},
   "outputs": [
    {
     "name": "stdout",
     "output_type": "stream",
     "text": [
      "0.5055518815317344\n"
     ]
    }
   ],
   "source": [
    "from sklearn.metrics import roc_curve,roc_auc_score\n",
    "fpr,tpr,thresholds=roc_curve(y_test,gb_classifier.predict_proba(X_test)[:,1])\n",
    "\n",
    "auc=roc_auc_score(y_test,y_pred_test_ad)\n",
    "print(auc)"
   ]
  },
  {
   "cell_type": "code",
   "execution_count": 142,
   "id": "b88d5c37",
   "metadata": {},
   "outputs": [
    {
     "data": {
      "image/png": "[encoded data removed]",
      "text/plain": [
       "<Figure size 432x288 with 1 Axes>"
      ]
     },
     "metadata": {
      "needs_background": "light"
     },
     "output_type": "display_data"
    }
   ],
   "source": [
    "import matplotlib.pyplot as plt\n",
    "plt.plot(fpr,tpr,color='blue',label='logit model(area=%0.2f)'%auc)\n",
    "plt.plot([0,1],[0,1],'k--')\n",
    "plt.xlabel(\"FALSE POSITIVE RATE\")\n",
    "plt.ylabel(\"TRUE POSITIVE RATE\")\n",
    "plt.show()"
   ]
  },
  {
   "cell_type": "markdown",
   "id": "6aa62ea7",
   "metadata": {},
   "source": [
    "## By comparing all the models ,the testing accuracy is high in Random forest. So,we prefer Random forest for our deployment."
   ]
  },
  {
   "cell_type": "code",
   "execution_count": null,
   "id": "ddaf1a8a",
   "metadata": {},
   "outputs": [],
   "source": []
  }
 ],
 "metadata": {
  "kernelspec": {
   "display_name": "Python 3 (ipykernel)",
   "language": "python",
   "name": "python3"
  },
  "language_info": {
   "codemirror_mode": {
    "name": "ipython",
    "version": 3
   },
   "file_extension": ".py",
   "mimetype": "text/x-python",
   "name": "python",
   "nbconvert_exporter": "python",
   "pygments_lexer": "ipython3",
   "version": "3.9.7"
  }
 },
 "nbformat": 4,
 "nbformat_minor": 5
}
